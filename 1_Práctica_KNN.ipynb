{
 "cells": [
  {
   "cell_type": "markdown",
   "metadata": {
    "id": "koV9LuVO09di"
   },
   "source": [
    "<img src=https://audiovisuales.icesi.edu.co/assets/custom/images/ICESI_logo_prin_descriptor_RGB_POSITIVO_0924.jpg width=200>\n",
    "\n",
    "*Milton Orlando Sarria Paja, PhD.*\n",
    "\n",
    "----\n",
    "\n",
    "# Práctica: KNN (K-nearest Neighbors)"
   ]
  },
  {
   "cell_type": "markdown",
   "metadata": {
    "id": "qFjS3J_CWZFH"
   },
   "source": [
    "### Importar librerías necesarias para la aplicación del algoritmo KNN"
   ]
  },
  {
   "cell_type": "code",
   "execution_count": 1,
   "metadata": {
    "executionInfo": {
     "elapsed": 2359,
     "status": "ok",
     "timestamp": 1700622120675,
     "user": {
      "displayName": "Miguel Angel Cumbalaza Garcia",
      "userId": "01250027386346648609"
     },
     "user_tz": 300
    },
    "id": "JAhPGhHcL0wD"
   },
   "outputs": [],
   "source": [
    "import pandas as pd\n",
    "import numpy as np\n",
    "import matplotlib.pyplot as plt\n",
    "from matplotlib.colors import ListedColormap\n",
    "import matplotlib.patches as mpatches\n",
    "import seaborn as sb\n",
    "\n",
    "# Matplotlib configuration\n",
    "%matplotlib inline\n",
    "plt.rcParams['figure.figsize'] = (16, 9) # styles of Matplotlib\n",
    "plt.style.use('ggplot')\n",
    "\n",
    "#These lines of code are importing necessary modules from the scikit-learn library for implementing the K-Nearest Neighbors (KNN) algorithm for classification.\n",
    "from sklearn.model_selection import train_test_split\n",
    "from sklearn.preprocessing import MinMaxScaler\n",
    "from sklearn.neighbors import KNeighborsClassifier\n",
    "from sklearn.metrics import classification_report\n",
    "from sklearn.metrics import confusion_matrix"
   ]
  },
  {
   "cell_type": "markdown",
   "metadata": {
    "id": "eGvZHCFJL9eP"
   },
   "source": [
    "# Acerca del Dataset\n",
    "Se han registrado 257 opiniones de usuarios sobre una app (Reviews). Utilizaremos 2 columnas de datos como fuente de alimento del algoritmo. Recuerden que sólo tomamos 2 features para poder graficar en 2 dimensiones, PERO para un problema “real” conviene tomar más características. Esto es únicamente con fines de enseñanza. Las columnas que utilizaremos serán: wordcount con la cantidad de palabras utilizadas y sentimentValue con un valor entre -4 y 4 que indica si el comentario fue valorado como positivo o negativo. Nuestras etiquetas, serán las estrellas que dieron los usuarios a la app, que son valores discretos del 1 al 5. Podemos pensar que si el usuario puntúa con más estrellas, tendrá un sentimiento positivo, pero no necesariamente siempre es así.\n",
    "\n"
   ]
  },
  {
   "cell_type": "markdown",
   "metadata": {
    "id": "ja02RKp3T9Fa"
   },
   "source": [
    "# Objetivo de la práctica\n",
    "En este ejercicio crearemos un modelo con Python para procesar y clasificar puntos de un conjunto de entrada con el algoritmo k-Nearest Neighbor. Cómo su nombre en inglés lo dice, se evaluán los “k vecinos más cercanos” para poder clasificar nuevos puntos."
   ]
  },
  {
   "cell_type": "code",
   "execution_count": 42,
   "metadata": {
    "executionInfo": {
     "elapsed": 2,
     "status": "ok",
     "timestamp": 1700622120675,
     "user": {
      "displayName": "Miguel Angel Cumbalaza Garcia",
      "userId": "01250027386346648609"
     },
     "user_tz": 300
    },
    "id": "xIBQG2dLL_eV"
   },
   "outputs": [],
   "source": [
    "# Import dataframe\n",
    "dataframe = pd.read_csv('data/dataset_app.csv')\n",
    "#dataframe.to_csv('data/dataset_sin_indices.csv', index=False)"
   ]
  },
  {
   "cell_type": "markdown",
   "metadata": {
    "id": "Docjpk4PaDIK"
   },
   "source": [
    "# Vista preliminar de los datos"
   ]
  },
  {
   "cell_type": "code",
   "execution_count": 11,
   "metadata": {
    "colab": {
     "base_uri": "https://localhost:8080/"
    },
    "executionInfo": {
     "elapsed": 503,
     "status": "ok",
     "timestamp": 1700622121177,
     "user": {
      "displayName": "Miguel Angel Cumbalaza Garcia",
      "userId": "01250027386346648609"
     },
     "user_tz": 300
    },
    "id": "Ty9ZOYNWo0XX",
    "outputId": "358ee0d3-48c9-40cf-fea4-b1ab076b429a"
   },
   "outputs": [
    {
     "data": {
      "text/plain": [
       "(257, 7)"
      ]
     },
     "execution_count": 11,
     "metadata": {},
     "output_type": "execute_result"
    }
   ],
   "source": [
    "#Returns a tuple representing the dimensions of the DataFrame. The first element of the tuple is the number of rows and the second element is the number of columns.\n",
    "dataframe.shape"
   ]
  },
  {
   "cell_type": "code",
   "execution_count": 12,
   "metadata": {
    "colab": {
     "base_uri": "https://localhost:8080/",
     "height": 206
    },
    "executionInfo": {
     "elapsed": 33,
     "status": "ok",
     "timestamp": 1700622121177,
     "user": {
      "displayName": "Miguel Angel Cumbalaza Garcia",
      "userId": "01250027386346648609"
     },
     "user_tz": 300
    },
    "id": "Lmi4Z79Nl0VY",
    "outputId": "8c7b005f-4477-49ca-cc25-98e6f9444868"
   },
   "outputs": [
    {
     "data": {
      "text/html": [
       "<div>\n",
       "<style scoped>\n",
       "    .dataframe tbody tr th:only-of-type {\n",
       "        vertical-align: middle;\n",
       "    }\n",
       "\n",
       "    .dataframe tbody tr th {\n",
       "        vertical-align: top;\n",
       "    }\n",
       "\n",
       "    .dataframe thead th {\n",
       "        text-align: right;\n",
       "    }\n",
       "</style>\n",
       "<table border=\"1\" class=\"dataframe\">\n",
       "  <thead>\n",
       "    <tr style=\"text-align: right;\">\n",
       "      <th></th>\n",
       "      <th>Review Title</th>\n",
       "      <th>Review Text</th>\n",
       "      <th>wordcount</th>\n",
       "      <th>titleSentiment</th>\n",
       "      <th>textSentiment</th>\n",
       "      <th>Star Rating</th>\n",
       "      <th>sentimentValue</th>\n",
       "    </tr>\n",
       "  </thead>\n",
       "  <tbody>\n",
       "    <tr>\n",
       "      <th>0</th>\n",
       "      <td>Sin conexión</td>\n",
       "      <td>Hola desde hace algo más de un mes me pone sin...</td>\n",
       "      <td>23</td>\n",
       "      <td>negative</td>\n",
       "      <td>negative</td>\n",
       "      <td>1</td>\n",
       "      <td>-0.486389</td>\n",
       "    </tr>\n",
       "    <tr>\n",
       "      <th>1</th>\n",
       "      <td>faltan cosas</td>\n",
       "      <td>Han mejorado la apariencia pero no</td>\n",
       "      <td>20</td>\n",
       "      <td>negative</td>\n",
       "      <td>negative</td>\n",
       "      <td>1</td>\n",
       "      <td>-0.586187</td>\n",
       "    </tr>\n",
       "    <tr>\n",
       "      <th>2</th>\n",
       "      <td>Es muy buena lo recomiendo</td>\n",
       "      <td>Andres e puto amoooo</td>\n",
       "      <td>4</td>\n",
       "      <td>NaN</td>\n",
       "      <td>negative</td>\n",
       "      <td>1</td>\n",
       "      <td>-0.602240</td>\n",
       "    </tr>\n",
       "    <tr>\n",
       "      <th>3</th>\n",
       "      <td>Version antigua</td>\n",
       "      <td>Me gustana mas la version anterior esta es mas...</td>\n",
       "      <td>17</td>\n",
       "      <td>NaN</td>\n",
       "      <td>negative</td>\n",
       "      <td>1</td>\n",
       "      <td>-0.616271</td>\n",
       "    </tr>\n",
       "    <tr>\n",
       "      <th>4</th>\n",
       "      <td>Esta bien</td>\n",
       "      <td>Sin ser la biblia.... Esta bien</td>\n",
       "      <td>6</td>\n",
       "      <td>negative</td>\n",
       "      <td>negative</td>\n",
       "      <td>1</td>\n",
       "      <td>-0.651784</td>\n",
       "    </tr>\n",
       "  </tbody>\n",
       "</table>\n",
       "</div>"
      ],
      "text/plain": [
       "                 Review Title  \\\n",
       "0                Sin conexión   \n",
       "1                faltan cosas   \n",
       "2  Es muy buena lo recomiendo   \n",
       "3             Version antigua   \n",
       "4                   Esta bien   \n",
       "\n",
       "                                         Review Text  wordcount  \\\n",
       "0  Hola desde hace algo más de un mes me pone sin...         23   \n",
       "1                 Han mejorado la apariencia pero no         20   \n",
       "2                               Andres e puto amoooo          4   \n",
       "3  Me gustana mas la version anterior esta es mas...         17   \n",
       "4                    Sin ser la biblia.... Esta bien          6   \n",
       "\n",
       "  titleSentiment textSentiment  Star Rating  sentimentValue  \n",
       "0       negative      negative            1       -0.486389  \n",
       "1       negative      negative            1       -0.586187  \n",
       "2            NaN      negative            1       -0.602240  \n",
       "3            NaN      negative            1       -0.616271  \n",
       "4       negative      negative            1       -0.651784  "
      ]
     },
     "execution_count": 12,
     "metadata": {},
     "output_type": "execute_result"
    }
   ],
   "source": [
    "#Shows the first five rows of the dataframe.\n",
    "dataframe.head()"
   ]
  },
  {
   "cell_type": "code",
   "execution_count": 13,
   "metadata": {
    "colab": {
     "base_uri": "https://localhost:8080/",
     "height": 206
    },
    "executionInfo": {
     "elapsed": 32,
     "status": "ok",
     "timestamp": 1700622121177,
     "user": {
      "displayName": "Miguel Angel Cumbalaza Garcia",
      "userId": "01250027386346648609"
     },
     "user_tz": 300
    },
    "id": "N6hrjJEKmEak",
    "outputId": "0cb52f96-9921-4b6e-c503-4b73e6b3cc6c"
   },
   "outputs": [
    {
     "data": {
      "text/html": [
       "<div>\n",
       "<style scoped>\n",
       "    .dataframe tbody tr th:only-of-type {\n",
       "        vertical-align: middle;\n",
       "    }\n",
       "\n",
       "    .dataframe tbody tr th {\n",
       "        vertical-align: top;\n",
       "    }\n",
       "\n",
       "    .dataframe thead th {\n",
       "        text-align: right;\n",
       "    }\n",
       "</style>\n",
       "<table border=\"1\" class=\"dataframe\">\n",
       "  <thead>\n",
       "    <tr style=\"text-align: right;\">\n",
       "      <th></th>\n",
       "      <th>Review Title</th>\n",
       "      <th>Review Text</th>\n",
       "      <th>wordcount</th>\n",
       "      <th>titleSentiment</th>\n",
       "      <th>textSentiment</th>\n",
       "      <th>Star Rating</th>\n",
       "      <th>sentimentValue</th>\n",
       "    </tr>\n",
       "  </thead>\n",
       "  <tbody>\n",
       "    <tr>\n",
       "      <th>252</th>\n",
       "      <td>Muy buena aplicacion</td>\n",
       "      <td>Muy buena genial</td>\n",
       "      <td>3</td>\n",
       "      <td>positive</td>\n",
       "      <td>positive</td>\n",
       "      <td>5</td>\n",
       "      <td>2.814818</td>\n",
       "    </tr>\n",
       "    <tr>\n",
       "      <th>253</th>\n",
       "      <td>Buena</td>\n",
       "      <td>Genial</td>\n",
       "      <td>1</td>\n",
       "      <td>positive</td>\n",
       "      <td>positive</td>\n",
       "      <td>5</td>\n",
       "      <td>2.924393</td>\n",
       "    </tr>\n",
       "    <tr>\n",
       "      <th>254</th>\n",
       "      <td>Wuau</td>\n",
       "      <td>Genial</td>\n",
       "      <td>1</td>\n",
       "      <td>positive</td>\n",
       "      <td>positive</td>\n",
       "      <td>5</td>\n",
       "      <td>2.924393</td>\n",
       "    </tr>\n",
       "    <tr>\n",
       "      <th>255</th>\n",
       "      <td>Muy buena</td>\n",
       "      <td>Genial</td>\n",
       "      <td>1</td>\n",
       "      <td>positive</td>\n",
       "      <td>positive</td>\n",
       "      <td>5</td>\n",
       "      <td>2.924393</td>\n",
       "    </tr>\n",
       "    <tr>\n",
       "      <th>256</th>\n",
       "      <td>Sg S5</td>\n",
       "      <td>Excelente y exacta</td>\n",
       "      <td>3</td>\n",
       "      <td>negative</td>\n",
       "      <td>positive</td>\n",
       "      <td>5</td>\n",
       "      <td>3.264579</td>\n",
       "    </tr>\n",
       "  </tbody>\n",
       "</table>\n",
       "</div>"
      ],
      "text/plain": [
       "             Review Title         Review Text  wordcount titleSentiment  \\\n",
       "252  Muy buena aplicacion    Muy buena genial          3       positive   \n",
       "253                 Buena              Genial          1       positive   \n",
       "254                  Wuau              Genial          1       positive   \n",
       "255             Muy buena              Genial          1       positive   \n",
       "256                 Sg S5  Excelente y exacta          3       negative   \n",
       "\n",
       "    textSentiment  Star Rating  sentimentValue  \n",
       "252      positive            5        2.814818  \n",
       "253      positive            5        2.924393  \n",
       "254      positive            5        2.924393  \n",
       "255      positive            5        2.924393  \n",
       "256      positive            5        3.264579  "
      ]
     },
     "execution_count": 13,
     "metadata": {},
     "output_type": "execute_result"
    }
   ],
   "source": [
    "#Shows the last five rows of the dataframe.\n",
    "dataframe.tail()"
   ]
  },
  {
   "cell_type": "markdown",
   "metadata": {
    "id": "0V8eAj4fmPO7"
   },
   "source": [
    "# Estadística básicas de tendencia central para variables numéricas\n",
    "\n",
    "Proporciona estadísticas descriptivas de un dataframe.\n",
    "Incluye el conteo, la media, la desviación estándar, el valor mínimo, el valor máximo y los valores de los cuartiles para cada columna del dataframe.\n",
    "Este método es útil para obtener una visión rápida de los datos e identificar posibles problemas, como valores faltantes o atípicos (outliers)."
   ]
  },
  {
   "cell_type": "code",
   "execution_count": 14,
   "metadata": {
    "colab": {
     "base_uri": "https://localhost:8080/",
     "height": 300
    },
    "executionInfo": {
     "elapsed": 32,
     "status": "ok",
     "timestamp": 1700622121178,
     "user": {
      "displayName": "Miguel Angel Cumbalaza Garcia",
      "userId": "01250027386346648609"
     },
     "user_tz": 300
    },
    "id": "v9xPT_niPTWB",
    "outputId": "fbfc2a80-60aa-4259-c548-ab651bae20d6"
   },
   "outputs": [
    {
     "data": {
      "text/html": [
       "<div>\n",
       "<style scoped>\n",
       "    .dataframe tbody tr th:only-of-type {\n",
       "        vertical-align: middle;\n",
       "    }\n",
       "\n",
       "    .dataframe tbody tr th {\n",
       "        vertical-align: top;\n",
       "    }\n",
       "\n",
       "    .dataframe thead th {\n",
       "        text-align: right;\n",
       "    }\n",
       "</style>\n",
       "<table border=\"1\" class=\"dataframe\">\n",
       "  <thead>\n",
       "    <tr style=\"text-align: right;\">\n",
       "      <th></th>\n",
       "      <th>wordcount</th>\n",
       "      <th>Star Rating</th>\n",
       "      <th>sentimentValue</th>\n",
       "    </tr>\n",
       "  </thead>\n",
       "  <tbody>\n",
       "    <tr>\n",
       "      <th>count</th>\n",
       "      <td>257.000000</td>\n",
       "      <td>257.000000</td>\n",
       "      <td>257.000000</td>\n",
       "    </tr>\n",
       "    <tr>\n",
       "      <th>mean</th>\n",
       "      <td>11.501946</td>\n",
       "      <td>3.420233</td>\n",
       "      <td>0.383849</td>\n",
       "    </tr>\n",
       "    <tr>\n",
       "      <th>std</th>\n",
       "      <td>13.159812</td>\n",
       "      <td>1.409531</td>\n",
       "      <td>0.897987</td>\n",
       "    </tr>\n",
       "    <tr>\n",
       "      <th>min</th>\n",
       "      <td>1.000000</td>\n",
       "      <td>1.000000</td>\n",
       "      <td>-2.276469</td>\n",
       "    </tr>\n",
       "    <tr>\n",
       "      <th>25%</th>\n",
       "      <td>3.000000</td>\n",
       "      <td>3.000000</td>\n",
       "      <td>-0.108144</td>\n",
       "    </tr>\n",
       "    <tr>\n",
       "      <th>50%</th>\n",
       "      <td>7.000000</td>\n",
       "      <td>3.000000</td>\n",
       "      <td>0.264091</td>\n",
       "    </tr>\n",
       "    <tr>\n",
       "      <th>75%</th>\n",
       "      <td>16.000000</td>\n",
       "      <td>5.000000</td>\n",
       "      <td>0.808384</td>\n",
       "    </tr>\n",
       "    <tr>\n",
       "      <th>max</th>\n",
       "      <td>103.000000</td>\n",
       "      <td>5.000000</td>\n",
       "      <td>3.264579</td>\n",
       "    </tr>\n",
       "  </tbody>\n",
       "</table>\n",
       "</div>"
      ],
      "text/plain": [
       "        wordcount  Star Rating  sentimentValue\n",
       "count  257.000000   257.000000      257.000000\n",
       "mean    11.501946     3.420233        0.383849\n",
       "std     13.159812     1.409531        0.897987\n",
       "min      1.000000     1.000000       -2.276469\n",
       "25%      3.000000     3.000000       -0.108144\n",
       "50%      7.000000     3.000000        0.264091\n",
       "75%     16.000000     5.000000        0.808384\n",
       "max    103.000000     5.000000        3.264579"
      ]
     },
     "execution_count": 14,
     "metadata": {},
     "output_type": "execute_result"
    }
   ],
   "source": [
    "dataframe.describe()"
   ]
  },
  {
   "cell_type": "markdown",
   "metadata": {
    "id": "AFacR8siZ3YX"
   },
   "source": [
    "Son 257 registros. Las estrellas van del 1 al 5. La cantidad de palabras van de 1 hasta 103. y las valoraciones de sentimiento están entre -2.27 y 3.26 con una media de 0,38 y a partir del desvío estándar podemos ver que la mayoría están entre `0,38-0,89` y `0,38+0,89.`"
   ]
  },
  {
   "cell_type": "markdown",
   "metadata": {
    "id": "EFm2XMe6m1sR"
   },
   "source": [
    "# Limpieza de los datos"
   ]
  },
  {
   "cell_type": "code",
   "execution_count": 31,
   "metadata": {
    "executionInfo": {
     "elapsed": 31,
     "status": "ok",
     "timestamp": 1700622121178,
     "user": {
      "displayName": "Miguel Angel Cumbalaza Garcia",
      "userId": "01250027386346648609"
     },
     "user_tz": 300
    },
    "id": "lhjyyZ6Nm55a"
   },
   "outputs": [],
   "source": [
    "#Hacer una copia del dataframe original es una buena práctica antes de modificarlo\n",
    "df_clean = dataframe.copy()"
   ]
  },
  {
   "cell_type": "code",
   "execution_count": 32,
   "metadata": {
    "colab": {
     "base_uri": "https://localhost:8080/"
    },
    "executionInfo": {
     "elapsed": 31,
     "status": "ok",
     "timestamp": 1700622121178,
     "user": {
      "displayName": "Miguel Angel Cumbalaza Garcia",
      "userId": "01250027386346648609"
     },
     "user_tz": 300
    },
    "id": "2K0zzj6BlJP0",
    "outputId": "a1988467-e240-422a-cb13-c1619e60ca5b"
   },
   "outputs": [
    {
     "name": "stdout",
     "output_type": "stream",
     "text": [
      "1\n"
     ]
    },
    {
     "data": {
      "text/plain": [
       "0"
      ]
     },
     "execution_count": 32,
     "metadata": {},
     "output_type": "execute_result"
    }
   ],
   "source": [
    "#Calcula el número total de registros duplicados en el DataFrame. y eliminarlos\n",
    "print(df_clean.duplicated().sum())\n",
    "\n",
    "df_clean = df_clean.drop_duplicates()\n",
    "df_clean = df_clean.reset_index(drop=True)\n",
    "\n",
    "#Check duplicate column removal\n",
    "df_clean.duplicated().sum()"
   ]
  },
  {
   "cell_type": "code",
   "execution_count": 33,
   "metadata": {
    "colab": {
     "base_uri": "https://localhost:8080/"
    },
    "executionInfo": {
     "elapsed": 28,
     "status": "ok",
     "timestamp": 1700622121178,
     "user": {
      "displayName": "Miguel Angel Cumbalaza Garcia",
      "userId": "01250027386346648609"
     },
     "user_tz": 300
    },
    "id": "W1_JfRJplPHv",
    "outputId": "aac90e67-fb09-4e90-dc16-c3f2138a4cf5"
   },
   "outputs": [
    {
     "name": "stdout",
     "output_type": "stream",
     "text": [
      "Review Title       0\n",
      "Review Text        0\n",
      "wordcount          0\n",
      "titleSentiment    26\n",
      "textSentiment      0\n",
      "Star Rating        0\n",
      "sentimentValue     0\n",
      "dtype: int64\n"
     ]
    }
   ],
   "source": [
    "#Calcula el número de valores faltantes (NaN) en cada columna del dataframe.\n",
    "nan = df_clean.isna().sum()\n",
    "print(nan)"
   ]
  },
  {
   "cell_type": "code",
   "execution_count": 34,
   "metadata": {
    "colab": {
     "base_uri": "https://localhost:8080/"
    },
    "executionInfo": {
     "elapsed": 27,
     "status": "ok",
     "timestamp": 1700622121178,
     "user": {
      "displayName": "Miguel Angel Cumbalaza Garcia",
      "userId": "01250027386346648609"
     },
     "user_tz": 300
    },
    "id": "1xO5TQ8a0bPO",
    "outputId": "62a61794-03b0-48ac-d48a-775a7921774b"
   },
   "outputs": [
    {
     "data": {
      "text/plain": [
       "(26, 7)"
      ]
     },
     "execution_count": 34,
     "metadata": {},
     "output_type": "execute_result"
    }
   ],
   "source": [
    "# Creando un nuevo dataframe con los valores faltantes en la columna llamada sentiment.\n",
    "df_NaNtitleSentiment = df_clean[df_clean.isna().any(axis=1)]\n",
    "#Devuelve una tupla que representa las dimensiones del DataFrame. \n",
    "#El primer elemento de la tupla es el número de filas y el segundo elemento es el número de columnas.\n",
    "df_NaNtitleSentiment.shape"
   ]
  },
  {
   "cell_type": "code",
   "execution_count": 35,
   "metadata": {
    "colab": {
     "base_uri": "https://localhost:8080/",
     "height": 864
    },
    "executionInfo": {
     "elapsed": 26,
     "status": "ok",
     "timestamp": 1700622121178,
     "user": {
      "displayName": "Miguel Angel Cumbalaza Garcia",
      "userId": "01250027386346648609"
     },
     "user_tz": 300
    },
    "id": "Sw7_vTVLrXos",
    "outputId": "56b0f3f4-49b9-4338-9ad1-43d908ebc061"
   },
   "outputs": [
    {
     "data": {
      "text/html": [
       "<div>\n",
       "<style scoped>\n",
       "    .dataframe tbody tr th:only-of-type {\n",
       "        vertical-align: middle;\n",
       "    }\n",
       "\n",
       "    .dataframe tbody tr th {\n",
       "        vertical-align: top;\n",
       "    }\n",
       "\n",
       "    .dataframe thead th {\n",
       "        text-align: right;\n",
       "    }\n",
       "</style>\n",
       "<table border=\"1\" class=\"dataframe\">\n",
       "  <thead>\n",
       "    <tr style=\"text-align: right;\">\n",
       "      <th></th>\n",
       "      <th>Review Title</th>\n",
       "      <th>Review Text</th>\n",
       "      <th>wordcount</th>\n",
       "      <th>titleSentiment</th>\n",
       "      <th>textSentiment</th>\n",
       "      <th>Star Rating</th>\n",
       "      <th>sentimentValue</th>\n",
       "    </tr>\n",
       "  </thead>\n",
       "  <tbody>\n",
       "    <tr>\n",
       "      <th>2</th>\n",
       "      <td>Es muy buena lo recomiendo</td>\n",
       "      <td>Andres e puto amoooo</td>\n",
       "      <td>4</td>\n",
       "      <td>NaN</td>\n",
       "      <td>negative</td>\n",
       "      <td>1</td>\n",
       "      <td>-0.602240</td>\n",
       "    </tr>\n",
       "    <tr>\n",
       "      <th>3</th>\n",
       "      <td>Version antigua</td>\n",
       "      <td>Me gustana mas la version anterior esta es mas...</td>\n",
       "      <td>17</td>\n",
       "      <td>NaN</td>\n",
       "      <td>negative</td>\n",
       "      <td>1</td>\n",
       "      <td>-0.616271</td>\n",
       "    </tr>\n",
       "    <tr>\n",
       "      <th>30</th>\n",
       "      <td>Buena app, pero</td>\n",
       "      <td>Buena app, pero…</td>\n",
       "      <td>76</td>\n",
       "      <td>NaN</td>\n",
       "      <td>negative</td>\n",
       "      <td>2</td>\n",
       "      <td>-0.295194</td>\n",
       "    </tr>\n",
       "    <tr>\n",
       "      <th>41</th>\n",
       "      <td>Util</td>\n",
       "      <td>Funciona bien,…</td>\n",
       "      <td>9</td>\n",
       "      <td>NaN</td>\n",
       "      <td>positive</td>\n",
       "      <td>3</td>\n",
       "      <td>-0.012039</td>\n",
       "    </tr>\n",
       "    <tr>\n",
       "      <th>61</th>\n",
       "      <td>Me gusta</td>\n",
       "      <td>Es una buena herramienta para…</td>\n",
       "      <td>10</td>\n",
       "      <td>NaN</td>\n",
       "      <td>positive</td>\n",
       "      <td>3</td>\n",
       "      <td>-0.110967</td>\n",
       "    </tr>\n",
       "    <tr>\n",
       "      <th>67</th>\n",
       "      <td>👍</td>\n",
       "      <td>😂👍</td>\n",
       "      <td>1</td>\n",
       "      <td>NaN</td>\n",
       "      <td>positive</td>\n",
       "      <td>3</td>\n",
       "      <td>-0.139861</td>\n",
       "    </tr>\n",
       "    <tr>\n",
       "      <th>68</th>\n",
       "      <td>Buenísima</td>\n",
       "      <td>A.,,</td>\n",
       "      <td>1</td>\n",
       "      <td>NaN</td>\n",
       "      <td>positive</td>\n",
       "      <td>3</td>\n",
       "      <td>-0.139861</td>\n",
       "    </tr>\n",
       "    <tr>\n",
       "      <th>83</th>\n",
       "      <td>Una pena</td>\n",
       "      <td>La nueva versión … de la vaca.</td>\n",
       "      <td>7</td>\n",
       "      <td>NaN</td>\n",
       "      <td>negative</td>\n",
       "      <td>1</td>\n",
       "      <td>-0.396850</td>\n",
       "    </tr>\n",
       "    <tr>\n",
       "      <th>90</th>\n",
       "      <td>Muy buena</td>\n",
       "      <td>Buenas tardes necesito saber como hago para que…</td>\n",
       "      <td>20</td>\n",
       "      <td>NaN</td>\n",
       "      <td>positive</td>\n",
       "      <td>3</td>\n",
       "      <td>0.001546</td>\n",
       "    </tr>\n",
       "    <tr>\n",
       "      <th>102</th>\n",
       "      <td>Buena aplicación</td>\n",
       "      <td>Sitio donde</td>\n",
       "      <td>4</td>\n",
       "      <td>NaN</td>\n",
       "      <td>positive</td>\n",
       "      <td>3</td>\n",
       "      <td>0.125126</td>\n",
       "    </tr>\n",
       "    <tr>\n",
       "      <th>105</th>\n",
       "      <td>Útil...</td>\n",
       "      <td>Funciona bien..un 9 .</td>\n",
       "      <td>4</td>\n",
       "      <td>NaN</td>\n",
       "      <td>positive</td>\n",
       "      <td>3</td>\n",
       "      <td>0.136882</td>\n",
       "    </tr>\n",
       "    <tr>\n",
       "      <th>123</th>\n",
       "      <td>Muy buena</td>\n",
       "      <td>Util</td>\n",
       "      <td>1</td>\n",
       "      <td>NaN</td>\n",
       "      <td>positive</td>\n",
       "      <td>3</td>\n",
       "      <td>0.297443</td>\n",
       "    </tr>\n",
       "    <tr>\n",
       "      <th>124</th>\n",
       "      <td>Me gusta</td>\n",
       "      <td>Es una ayuda</td>\n",
       "      <td>3</td>\n",
       "      <td>NaN</td>\n",
       "      <td>positive</td>\n",
       "      <td>3</td>\n",
       "      <td>0.297791</td>\n",
       "    </tr>\n",
       "    <tr>\n",
       "      <th>135</th>\n",
       "      <td>Practica</td>\n",
       "      <td>Muy util para los que…</td>\n",
       "      <td>17</td>\n",
       "      <td>NaN</td>\n",
       "      <td>positive</td>\n",
       "      <td>4</td>\n",
       "      <td>0.199283</td>\n",
       "    </tr>\n",
       "    <tr>\n",
       "      <th>140</th>\n",
       "      <td>Buena</td>\n",
       "      <td>Anda ya los</td>\n",
       "      <td>22</td>\n",
       "      <td>NaN</td>\n",
       "      <td>positive</td>\n",
       "      <td>4</td>\n",
       "      <td>0.272991</td>\n",
       "    </tr>\n",
       "    <tr>\n",
       "      <th>176</th>\n",
       "      <td>Util a tiempo real</td>\n",
       "      <td>De gran ayuda cuando</td>\n",
       "      <td>5</td>\n",
       "      <td>NaN</td>\n",
       "      <td>positive</td>\n",
       "      <td>5</td>\n",
       "      <td>0.634096</td>\n",
       "    </tr>\n",
       "    <tr>\n",
       "      <th>191</th>\n",
       "      <td>buena</td>\n",
       "      <td>…</td>\n",
       "      <td>2</td>\n",
       "      <td>NaN</td>\n",
       "      <td>positive</td>\n",
       "      <td>5</td>\n",
       "      <td>0.727406</td>\n",
       "    </tr>\n",
       "    <tr>\n",
       "      <th>201</th>\n",
       "      <td>buena y necesaria</td>\n",
       "      <td>Perfecta en su fabricacion. Guncioma de diez y</td>\n",
       "      <td>12</td>\n",
       "      <td>NaN</td>\n",
       "      <td>positive</td>\n",
       "      <td>4</td>\n",
       "      <td>0.876946</td>\n",
       "    </tr>\n",
       "    <tr>\n",
       "      <th>203</th>\n",
       "      <td>Muy completa</td>\n",
       "      <td>Esta muy bien</td>\n",
       "      <td>3</td>\n",
       "      <td>NaN</td>\n",
       "      <td>positive</td>\n",
       "      <td>5</td>\n",
       "      <td>0.950245</td>\n",
       "    </tr>\n",
       "    <tr>\n",
       "      <th>205</th>\n",
       "      <td>de utilidad</td>\n",
       "      <td>Muy buena, y muy util para</td>\n",
       "      <td>9</td>\n",
       "      <td>NaN</td>\n",
       "      <td>positive</td>\n",
       "      <td>5</td>\n",
       "      <td>0.983344</td>\n",
       "    </tr>\n",
       "    <tr>\n",
       "      <th>206</th>\n",
       "      <td>Buena herramienta</td>\n",
       "      <td>Me parece genial.</td>\n",
       "      <td>3</td>\n",
       "      <td>NaN</td>\n",
       "      <td>positive</td>\n",
       "      <td>5</td>\n",
       "      <td>0.984504</td>\n",
       "    </tr>\n",
       "    <tr>\n",
       "      <th>227</th>\n",
       "      <td>Probe y me gustó</td>\n",
       "      <td>Va genial. ...era lo que buscaba</td>\n",
       "      <td>6</td>\n",
       "      <td>NaN</td>\n",
       "      <td>positive</td>\n",
       "      <td>5</td>\n",
       "      <td>1.395646</td>\n",
       "    </tr>\n",
       "    <tr>\n",
       "      <th>233</th>\n",
       "      <td>estupenda ami me va genial gracias y sigan mej...</td>\n",
       "      <td>estupenda ami me va genial gracias y sigan mej</td>\n",
       "      <td>9</td>\n",
       "      <td>NaN</td>\n",
       "      <td>positive</td>\n",
       "      <td>5</td>\n",
       "      <td>1.527797</td>\n",
       "    </tr>\n",
       "    <tr>\n",
       "      <th>235</th>\n",
       "      <td>Muy bien</td>\n",
       "      <td>Muy bien...</td>\n",
       "      <td>2</td>\n",
       "      <td>NaN</td>\n",
       "      <td>positive</td>\n",
       "      <td>5</td>\n",
       "      <td>1.593301</td>\n",
       "    </tr>\n",
       "    <tr>\n",
       "      <th>245</th>\n",
       "      <td>Muy buena aplicación me encanta</td>\n",
       "      <td>Muy bueno</td>\n",
       "      <td>2</td>\n",
       "      <td>NaN</td>\n",
       "      <td>positive</td>\n",
       "      <td>5</td>\n",
       "      <td>2.066294</td>\n",
       "    </tr>\n",
       "    <tr>\n",
       "      <th>249</th>\n",
       "      <td>Genial</td>\n",
       "      <td>Me encanta</td>\n",
       "      <td>2</td>\n",
       "      <td>NaN</td>\n",
       "      <td>positive</td>\n",
       "      <td>5</td>\n",
       "      <td>2.333013</td>\n",
       "    </tr>\n",
       "  </tbody>\n",
       "</table>\n",
       "</div>"
      ],
      "text/plain": [
       "                                          Review Title  \\\n",
       "2                           Es muy buena lo recomiendo   \n",
       "3                                      Version antigua   \n",
       "30                                     Buena app, pero   \n",
       "41                                                Util   \n",
       "61                                            Me gusta   \n",
       "67                                                   👍   \n",
       "68                                           Buenísima   \n",
       "83                                            Una pena   \n",
       "90                                           Muy buena   \n",
       "102                                   Buena aplicación   \n",
       "105                                            Útil...   \n",
       "123                                          Muy buena   \n",
       "124                                           Me gusta   \n",
       "135                                           Practica   \n",
       "140                                              Buena   \n",
       "176                                 Util a tiempo real   \n",
       "191                                              buena   \n",
       "201                                  buena y necesaria   \n",
       "203                                       Muy completa   \n",
       "205                                        de utilidad   \n",
       "206                                  Buena herramienta   \n",
       "227                                   Probe y me gustó   \n",
       "233  estupenda ami me va genial gracias y sigan mej...   \n",
       "235                                           Muy bien   \n",
       "245                    Muy buena aplicación me encanta   \n",
       "249                                             Genial   \n",
       "\n",
       "                                           Review Text  wordcount  \\\n",
       "2                                 Andres e puto amoooo          4   \n",
       "3    Me gustana mas la version anterior esta es mas...         17   \n",
       "30                                    Buena app, pero…         76   \n",
       "41                                     Funciona bien,…          9   \n",
       "61                      Es una buena herramienta para…         10   \n",
       "67                                                  😂👍          1   \n",
       "68                                                A.,,          1   \n",
       "83                      La nueva versión … de la vaca.          7   \n",
       "90    Buenas tardes necesito saber como hago para que…         20   \n",
       "102                                       Sitio donde           4   \n",
       "105                              Funciona bien..un 9 .          4   \n",
       "123                                               Util          1   \n",
       "124                                       Es una ayuda          3   \n",
       "135                             Muy util para los que…         17   \n",
       "140                                        Anda ya los         22   \n",
       "176                               De gran ayuda cuando          5   \n",
       "191                                                  …          2   \n",
       "201     Perfecta en su fabricacion. Guncioma de diez y         12   \n",
       "203                                      Esta muy bien          3   \n",
       "205                         Muy buena, y muy util para          9   \n",
       "206                                  Me parece genial.          3   \n",
       "227                   Va genial. ...era lo que buscaba          6   \n",
       "233     estupenda ami me va genial gracias y sigan mej          9   \n",
       "235                                        Muy bien...          2   \n",
       "245                                          Muy bueno          2   \n",
       "249                                         Me encanta          2   \n",
       "\n",
       "    titleSentiment textSentiment  Star Rating  sentimentValue  \n",
       "2              NaN      negative            1       -0.602240  \n",
       "3              NaN      negative            1       -0.616271  \n",
       "30             NaN      negative            2       -0.295194  \n",
       "41             NaN      positive            3       -0.012039  \n",
       "61             NaN      positive            3       -0.110967  \n",
       "67             NaN      positive            3       -0.139861  \n",
       "68             NaN      positive            3       -0.139861  \n",
       "83             NaN      negative            1       -0.396850  \n",
       "90             NaN      positive            3        0.001546  \n",
       "102            NaN      positive            3        0.125126  \n",
       "105            NaN      positive            3        0.136882  \n",
       "123            NaN      positive            3        0.297443  \n",
       "124            NaN      positive            3        0.297791  \n",
       "135            NaN      positive            4        0.199283  \n",
       "140            NaN      positive            4        0.272991  \n",
       "176            NaN      positive            5        0.634096  \n",
       "191            NaN      positive            5        0.727406  \n",
       "201            NaN      positive            4        0.876946  \n",
       "203            NaN      positive            5        0.950245  \n",
       "205            NaN      positive            5        0.983344  \n",
       "206            NaN      positive            5        0.984504  \n",
       "227            NaN      positive            5        1.395646  \n",
       "233            NaN      positive            5        1.527797  \n",
       "235            NaN      positive            5        1.593301  \n",
       "245            NaN      positive            5        2.066294  \n",
       "249            NaN      positive            5        2.333013  "
      ]
     },
     "execution_count": 35,
     "metadata": {},
     "output_type": "execute_result"
    }
   ],
   "source": [
    "# S\n",
    "df_NaNtitleSentiment.head(26)"
   ]
  },
  {
   "cell_type": "code",
   "execution_count": 37,
   "metadata": {
    "executionInfo": {
     "elapsed": 26,
     "status": "ok",
     "timestamp": 1700622121178,
     "user": {
      "displayName": "Miguel Angel Cumbalaza Garcia",
      "userId": "01250027386346648609"
     },
     "user_tz": 300
    },
    "id": "RO5G06dNtcUy"
   },
   "outputs": [],
   "source": [
    "#Replacing NaN values with coherent observations in titleSentiment column.\n",
    "df_clean.loc[2, \"titleSentiment\"] = \"positive\"\n",
    "df_clean.loc[3, \"titleSentiment\"] = \"negative\"\n",
    "df_clean.loc[30, \"titleSentiment\"] = \"negative\"\n",
    "df_clean.loc[41, \"titleSentiment\"] = \"positive\"\n",
    "df_clean.loc[61, \"titleSentiment\"] = \"positive\"\n",
    "df_clean.loc[67, \"titleSentiment\"] = \"positive\"\n",
    "df_clean.loc[68, \"titleSentiment\"] = \"positive\"\n",
    "df_clean.loc[83, \"titleSentiment\"] = \"negative\"\n",
    "df_clean.loc[90, \"titleSentiment\"] = \"positive\"\n",
    "df_clean.loc[102, \"titleSentiment\"] = \"positive\"\n",
    "df_clean.loc[105, \"titleSentiment\"] = \"positive\"\n",
    "df_clean.loc[123, \"titleSentiment\"] = \"positive\"\n",
    "df_clean.loc[124, \"titleSentiment\"] = \"positive\"\n",
    "df_clean.loc[135, \"titleSentiment\"] = \"positive\"\n",
    "df_clean.loc[140, \"titleSentiment\"] = \"positive\"\n",
    "df_clean.loc[176, \"titleSentiment\"] = \"positive\"\n",
    "df_clean.loc[191, \"titleSentiment\"] = \"positive\"\n",
    "df_clean.loc[201, \"titleSentiment\"] = \"positive\"\n",
    "df_clean.loc[203, \"titleSentiment\"] = \"positive\"\n",
    "df_clean.loc[205, \"titleSentiment\"] = \"positive\"\n",
    "df_clean.loc[206, \"titleSentiment\"] = \"positive\"\n",
    "df_clean.loc[227, \"titleSentiment\"] = \"positive\"\n",
    "df_clean.loc[233, \"titleSentiment\"] = \"positive\"\n",
    "df_clean.loc[235, \"titleSentiment\"] = \"positive\"\n",
    "df_clean.loc[245, \"titleSentiment\"] = \"positive\"\n",
    "df_clean.loc[249, \"titleSentiment\"] = \"positive\""
   ]
  },
  {
   "cell_type": "code",
   "execution_count": 38,
   "metadata": {
    "colab": {
     "base_uri": "https://localhost:8080/"
    },
    "executionInfo": {
     "elapsed": 25,
     "status": "ok",
     "timestamp": 1700622121178,
     "user": {
      "displayName": "Miguel Angel Cumbalaza Garcia",
      "userId": "01250027386346648609"
     },
     "user_tz": 300
    },
    "id": "YJk-r2kUy7HZ",
    "outputId": "5cbc8a0a-a521-4fba-9324-e575dd405435"
   },
   "outputs": [
    {
     "name": "stdout",
     "output_type": "stream",
     "text": [
      "Review Title      0\n",
      "Review Text       0\n",
      "wordcount         0\n",
      "titleSentiment    0\n",
      "textSentiment     0\n",
      "Star Rating       0\n",
      "sentimentValue    0\n",
      "dtype: int64\n"
     ]
    }
   ],
   "source": [
    "#Check NaN replacements\n",
    "nan = df_clean.isna().sum()\n",
    "print(nan)"
   ]
  },
  {
   "cell_type": "markdown",
   "metadata": {
    "id": "puCO0ijaaRq4"
   },
   "source": [
    "# Ejercicios\n",
    "1. Genera un histograma para analizar la distribución de las variables wordcount, Star Rating y sentimentValue. Consigna tus observaciones, ¿Se encuentran los datos balanceados?"
   ]
  },
  {
   "cell_type": "code",
   "execution_count": 15,
   "metadata": {
    "executionInfo": {
     "elapsed": 24,
     "status": "ok",
     "timestamp": 1700622121178,
     "user": {
      "displayName": "Miguel Angel Cumbalaza Garcia",
      "userId": "01250027386346648609"
     },
     "user_tz": 300
    },
    "id": "usu0Xpppcbn-"
   },
   "outputs": [],
   "source": []
  },
  {
   "cell_type": "markdown",
   "metadata": {
    "id": "x7vj6282cATy"
   },
   "source": [
    "2. ¿En qué valor(es) se encuentran la mayoría de estrellas y cantidad de palabras? Puedes generar una gráfica de barras para poder responder a esta pregunta."
   ]
  },
  {
   "cell_type": "code",
   "execution_count": 15,
   "metadata": {
    "executionInfo": {
     "elapsed": 25,
     "status": "ok",
     "timestamp": 1700622121179,
     "user": {
      "displayName": "Miguel Angel Cumbalaza Garcia",
      "userId": "01250027386346648609"
     },
     "user_tz": 300
    },
    "id": "CvxUGwLfccEy"
   },
   "outputs": [],
   "source": []
  },
  {
   "cell_type": "markdown",
   "metadata": {
    "id": "PKCNh_UTbaNA"
   },
   "source": [
    "# Preparar las entradas"
   ]
  },
  {
   "cell_type": "markdown",
   "metadata": {
    "id": "EWlmAgYLdAiz"
   },
   "source": [
    "Crearemos nuestro `X` e `y` de entrada y los `sets` de entrenamiento y test."
   ]
  },
  {
   "cell_type": "code",
   "execution_count": 39,
   "metadata": {
    "executionInfo": {
     "elapsed": 25,
     "status": "ok",
     "timestamp": 1700622121179,
     "user": {
      "displayName": "Miguel Angel Cumbalaza Garcia",
      "userId": "01250027386346648609"
     },
     "user_tz": 300
    },
    "id": "7qOfZHrcX7Zq"
   },
   "outputs": [],
   "source": [
    "X = df_clean[['wordcount','sentimentValue']].values #Predictor variables\n",
    "y = df_clean['Star Rating'].values #Target variable\n",
    "\n",
    "X_train, X_test, y_train, y_test = train_test_split(X, y, random_state=0)\n",
    "\n",
    "scaler = MinMaxScaler()\n",
    "X_train = scaler.fit_transform(X_train)\n",
    "X_test = scaler.transform(X_test)"
   ]
  },
  {
   "cell_type": "markdown",
   "metadata": {
    "id": "NELARBExeTJI"
   },
   "source": [
    "Definiremos el valor de K en 7 para crear nuestro clasificador, más adelante revisaremos el por qué de esta decisión."
   ]
  },
  {
   "cell_type": "code",
   "execution_count": 24,
   "metadata": {
    "colab": {
     "base_uri": "https://localhost:8080/"
    },
    "executionInfo": {
     "elapsed": 25,
     "status": "ok",
     "timestamp": 1700622121179,
     "user": {
      "displayName": "Miguel Angel Cumbalaza Garcia",
      "userId": "01250027386346648609"
     },
     "user_tz": 300
    },
    "id": "PUxhspI9YPe_",
    "outputId": "f5193fa3-2778-4536-940e-b34d7c977fd6"
   },
   "outputs": [
    {
     "name": "stdout",
     "output_type": "stream",
     "text": [
      "Accuracy of K-NN classifier on training set: 0.90\n",
      "Accuracy of K-NN classifier on test set: 0.86\n"
     ]
    }
   ],
   "source": [
    "n_neighbors = 7\n",
    "\n",
    "knn = KNeighborsClassifier(n_neighbors)\n",
    "knn.fit(X_train, y_train)\n",
    "print('Accuracy of K-NN classifier on training set: {:.2f}'\n",
    "     .format(knn.score(X_train, y_train)))\n",
    "print('Accuracy of K-NN classifier on test set: {:.2f}'\n",
    "     .format(knn.score(X_test, y_test)))"
   ]
  },
  {
   "cell_type": "markdown",
   "metadata": {
    "id": "MqLV7ZE_ehBy"
   },
   "source": [
    "####  Precisión del modelo\n",
    "Confirmemos la precisión viendo la Confusión Matrix y el Reporte sobre el conjunto de test, que nos detalla los aciertos y fallos:"
   ]
  },
  {
   "cell_type": "code",
   "execution_count": 25,
   "metadata": {
    "colab": {
     "base_uri": "https://localhost:8080/"
    },
    "executionInfo": {
     "elapsed": 24,
     "status": "ok",
     "timestamp": 1700622121179,
     "user": {
      "displayName": "Miguel Angel Cumbalaza Garcia",
      "userId": "01250027386346648609"
     },
     "user_tz": 300
    },
    "id": "k0hKaeklew0s",
    "outputId": "11733a9c-03e8-45fe-b904-c1368c78329b"
   },
   "outputs": [
    {
     "name": "stdout",
     "output_type": "stream",
     "text": [
      "[[ 9  0  1  0  0]\n",
      " [ 0  1  0  0  0]\n",
      " [ 0  1 17  0  1]\n",
      " [ 0  0  2  8  0]\n",
      " [ 0  0  4  0 20]]\n",
      "              precision    recall  f1-score   support\n",
      "\n",
      "           1       1.00      0.90      0.95        10\n",
      "           2       0.50      1.00      0.67         1\n",
      "           3       0.71      0.89      0.79        19\n",
      "           4       1.00      0.80      0.89        10\n",
      "           5       0.95      0.83      0.89        24\n",
      "\n",
      "    accuracy                           0.86        64\n",
      "   macro avg       0.83      0.89      0.84        64\n",
      "weighted avg       0.89      0.86      0.87        64\n",
      "\n"
     ]
    }
   ],
   "source": [
    "pred = knn.predict(X_test)\n",
    "print(confusion_matrix(y_test, pred))\n",
    "print(classification_report(y_test, pred))"
   ]
  },
  {
   "cell_type": "markdown",
   "metadata": {
    "id": "CYiSa8yVe00h"
   },
   "source": [
    "Cómo se ve la precisión o accurracy de nuestro modelo es del 86%, bastante buena. \n",
    "\n",
    "**NOTA**: recuerden que este es sólo un ejercicio para aprender y tenemos MUY pocos registros totales y en nuestro conjunto de test. Por ejemplo de 2 estrellas sólo tiene 1 valoración y esto es evidentemente insuficiente."
   ]
  },
  {
   "cell_type": "markdown",
   "metadata": {
    "id": "5DEDinv5fmQk"
   },
   "source": [
    "# Y ahora, ¡La gráfica que queríamos ver!"
   ]
  },
  {
   "cell_type": "code",
   "execution_count": null,
   "metadata": {
    "colab": {
     "base_uri": "https://localhost:8080/"
    },
    "executionInfo": {
     "elapsed": 374,
     "status": "ok",
     "timestamp": 1700623448866,
     "user": {
      "displayName": "Miguel Angel Cumbalaza Garcia",
      "userId": "01250027386346648609"
     },
     "user_tz": 300
    },
    "id": "3YNmk-aY-vCr",
    "outputId": "bfb37f2c-abb2-47ba-c053-36f3df8feec9"
   },
   "outputs": [],
   "source": []
  },
  {
   "cell_type": "code",
   "execution_count": 26,
   "metadata": {
    "colab": {
     "base_uri": "https://localhost:8080/",
     "height": 777
    },
    "executionInfo": {
     "elapsed": 34933,
     "status": "ok",
     "timestamp": 1700622156089,
     "user": {
      "displayName": "Miguel Angel Cumbalaza Garcia",
      "userId": "01250027386346648609"
     },
     "user_tz": 300
    },
    "id": "04iLjTATezIr",
    "outputId": "55137b62-2de4-4f67-ce48-074be0439cb2"
   },
   "outputs": [
    {
     "name": "stderr",
     "output_type": "stream",
     "text": [
      "C:\\Users\\16079220\\AppData\\Local\\anaconda3\\envs\\bancow2\\lib\\site-packages\\IPython\\core\\pylabtools.py:170: UserWarning: Creating legend with loc=\"best\" can be slow with large amounts of data.\n",
      "  fig.canvas.print_figure(bytes_io, **kw)\n"
     ]
    },
    {
     "data": {
      "image/png": "[encoded data removed]",
      "text/plain": [
       "<Figure size 1600x900 with 1 Axes>"
      ]
     },
     "metadata": {},
     "output_type": "display_data"
    }
   ],
   "source": [
    "h = .02  # step size in the mesh\n",
    "\n",
    "# Create color maps\n",
    "cmap_light = ListedColormap(['#FFAAAA', '#ffcc99', '#ffffb3','#b3ffff','#c2f0c2'])\n",
    "cmap_bold = ListedColormap(['#FF0000', '#ff9933','#FFFF00','#00ffff','#00FF00'])\n",
    "\n",
    "# we create an instance of Neighbours Classifier and fit the data.\n",
    "w='distance'\n",
    "clf = KNeighborsClassifier(n_neighbors, weights=w, metric='euclidean')\n",
    "clf.fit(X, y)\n",
    "\n",
    "# Plot the decision boundary. For that, we will assign a color to each\n",
    "# point in the mesh [x_min, x_max]x[y_min, y_max].\n",
    "x_min, x_max = X[:, 0].min() - 1, X[:, 0].max() + 1\n",
    "y_min, y_max = X[:, 1].min() - 1, X[:, 1].max() + 1\n",
    "xx, yy = np.meshgrid(np.arange(x_min, x_max, h),\n",
    "                         np.arange(y_min, y_max, h))\n",
    "Z = clf.predict(np.c_[xx.ravel(), yy.ravel()])\n",
    "\n",
    "# Put the result into a color plot\n",
    "Z = Z.reshape(xx.shape)\n",
    "plt.figure()\n",
    "plt.pcolormesh(xx, yy, Z, cmap=cmap_light)\n",
    "\n",
    "# Plot also the training points\n",
    "plt.scatter(X[:, 0], X[:, 1], c=y, cmap=cmap_bold,\n",
    "                edgecolor='k', s=20)\n",
    "plt.xlim(xx.min(), xx.max())\n",
    "plt.ylim(yy.min(), yy.max())\n",
    "\n",
    "patch0 = mpatches.Patch(color='#FF0000', label='1')\n",
    "patch1 = mpatches.Patch(color='#ff9933', label='2')\n",
    "patch2 = mpatches.Patch(color='#FFFF00', label='3')\n",
    "patch3 = mpatches.Patch(color='#00ffff', label='4')\n",
    "patch4 = mpatches.Patch(color='#00FF00', label='5')\n",
    "plt.legend(handles=[patch0, patch1, patch2, patch3,patch4])\n",
    "\n",
    "\n",
    "plt.title(\"5-Class classification (k = %i, weights = '%s')\"\n",
    "              % (n_neighbors, w))\n",
    "\n",
    "plt.show()"
   ]
  },
  {
   "cell_type": "markdown",
   "metadata": {
    "id": "AbpHRNDgf8LH"
   },
   "source": [
    "Un review de 20 palabras y Sentimiento 1, nos daría una valoración de 4 (zona celeste).\n",
    "\n",
    "Con estas zonas podemos intuir ciertas características de los usuarios que usan y valoran la app:\n",
    "\n",
    "Los usuarios que ponen 1 estrella tienen sentimiento negativo y hasta 25 palabras.\n",
    "\n",
    "Los usuarios que ponen 2 estrellas dan muchas explicaciones (hasta 100 palabras) y su sentimiento puede variar entre negativo y algo positivo.\n",
    "\n",
    "Los usuarios que ponen 3 estrellas son bastante neutrales en sentimientos, puesto que están en torno al cero y hasta unas 25 palabras.\n",
    "\n",
    "Los usuarios que dan 5 estrellas son bastante positivos (de 0,5 en adelante, aproximadamente) y ponen pocas palabras (hasta 10)."
   ]
  },
  {
   "cell_type": "markdown",
   "metadata": {
    "id": "eW1Y4PXIgppA"
   },
   "source": [
    "# Elegir el mejor valor de k\n",
    "Antes vimos que asignamos el valor n_neighbors=7 como valor de “k” y obtuvimos buenos resultados. ¿Pero de donde salió ese valor?. Pues realmente se tuvo que ejecutar el siguiente código, donde vemos distintos valores k y la precisión obtenida."
   ]
  },
  {
   "cell_type": "code",
   "execution_count": 41,
   "metadata": {
    "colab": {
     "base_uri": "https://localhost:8080/",
     "height": 962
    },
    "executionInfo": {
     "elapsed": 479,
     "status": "ok",
     "timestamp": 1700622156556,
     "user": {
      "displayName": "Miguel Angel Cumbalaza Garcia",
      "userId": "01250027386346648609"
     },
     "user_tz": 300
    },
    "id": "OQrCCoXPf_uT",
    "outputId": "7fad15e1-a2f2-4667-9e2b-d900add44b16"
   },
   "outputs": [
    {
     "name": "stdout",
     "output_type": "stream",
     "text": [
      "1\n",
      "2\n",
      "3\n",
      "4\n",
      "5\n",
      "6\n",
      "7\n",
      "8\n",
      "9\n",
      "10\n",
      "11\n",
      "12\n",
      "13\n",
      "14\n",
      "15\n",
      "16\n",
      "17\n",
      "18\n",
      "19\n"
     ]
    },
    {
     "data": {
      "text/plain": [
       "([<matplotlib.axis.XTick at 0x2c292cbea70>,\n",
       "  <matplotlib.axis.XTick at 0x2c292cbea40>,\n",
       "  <matplotlib.axis.XTick at 0x2c292cbe290>,\n",
       "  <matplotlib.axis.XTick at 0x2c292cdee00>,\n",
       "  <matplotlib.axis.XTick at 0x2c292cdf8b0>],\n",
       " [Text(0, 0, '0'),\n",
       "  Text(5, 0, '5'),\n",
       "  Text(10, 0, '10'),\n",
       "  Text(15, 0, '15'),\n",
       "  Text(20, 0, '20')])"
      ]
     },
     "execution_count": 41,
     "metadata": {},
     "output_type": "execute_result"
    },
    {
     "data": {
      "image/png": "[encoded data removed]",
      "text/plain": [
       "<Figure size 1600x900 with 1 Axes>"
      ]
     },
     "metadata": {},
     "output_type": "display_data"
    }
   ],
   "source": [
    "\n",
    "k_range = range(1, 20)\n",
    "scores = []\n",
    "for k in k_range:\n",
    "    print(k)\n",
    "    knn = KNeighborsClassifier(n_neighbors = k)\n",
    "    knn.fit(X_train, y_train)\n",
    "    scores.append(knn.score(X_test, y_test))\n",
    "plt.figure()\n",
    "plt.xlabel('k')\n",
    "plt.ylabel('accuracy')\n",
    "plt.scatter(k_range, scores)\n",
    "plt.xticks([0,5,10,15,20])"
   ]
  },
  {
   "cell_type": "markdown",
   "metadata": {
    "id": "MlJOQdKwhkCl"
   },
   "source": [
    "En la gráfica vemos que con valores k=7 a k=14 es donde mayor precisión se logra."
   ]
  },
  {
   "cell_type": "markdown",
   "metadata": {
    "id": "lE0ktc1AhlmC"
   },
   "source": [
    "# Clasificar y/o predecir nuevas muestras\n"
   ]
  },
  {
   "cell_type": "code",
   "execution_count": 28,
   "metadata": {
    "colab": {
     "base_uri": "https://localhost:8080/"
    },
    "executionInfo": {
     "elapsed": 7,
     "status": "ok",
     "timestamp": 1700622156556,
     "user": {
      "displayName": "Miguel Angel Cumbalaza Garcia",
      "userId": "01250027386346648609"
     },
     "user_tz": 300
    },
    "id": "OS_Gc0fbhwIp",
    "outputId": "1610cc77-1661-43d2-fa78-f922235d7852"
   },
   "outputs": [
    {
     "name": "stdout",
     "output_type": "stream",
     "text": [
      "[5]\n"
     ]
    }
   ],
   "source": [
    "#\n",
    "print(clf.predict([[5, 1.0]]))"
   ]
  },
  {
   "cell_type": "markdown",
   "metadata": {
    "id": "oLoRN8aYh4tj"
   },
   "source": [
    "Este resultado nos indica que para 5 palabras y sentimiento 1, nos valorarán la app con 5 estrellas.\n",
    "Pero también podríamos obtener las probabilidades que de nos den 1, 2,3,4 o 5 estrellas con predict_proba():"
   ]
  },
  {
   "cell_type": "code",
   "execution_count": 29,
   "metadata": {
    "colab": {
     "base_uri": "https://localhost:8080/"
    },
    "executionInfo": {
     "elapsed": 6,
     "status": "ok",
     "timestamp": 1700622156556,
     "user": {
      "displayName": "Miguel Angel Cumbalaza Garcia",
      "userId": "01250027386346648609"
     },
     "user_tz": 300
    },
    "id": "DjJ-gYFnh7yR",
    "outputId": "f3c44f44-8f8e-4bcb-ffc6-f38869a18e8d"
   },
   "outputs": [
    {
     "name": "stdout",
     "output_type": "stream",
     "text": [
      "[[0.00381998 0.02520212 0.97097789 0.         0.        ]]\n"
     ]
    }
   ],
   "source": [
    "print(clf.predict_proba([[20, 0.0]]))"
   ]
  },
  {
   "cell_type": "markdown",
   "metadata": {
    "id": "oXfJCMtkiCOA"
   },
   "source": [
    "Aquí vemos que para las coordenadas 20, 0.0 hay 97% probabilidades que nos den 3 estrellas. Puedes comprobar en el gráfico anterior, que encajan en las zonas que delimitamos anteriormente."
   ]
  }
 ],
 "metadata": {
  "colab": {
   "provenance": []
  },
  "kernelspec": {
   "display_name": "Python 3 (ipykernel)",
   "language": "python",
   "name": "python3"
  },
  "language_info": {
   "codemirror_mode": {
    "name": "ipython",
    "version": 3
   },
   "file_extension": ".py",
   "mimetype": "text/x-python",
   "name": "python",
   "nbconvert_exporter": "python",
   "pygments_lexer": "ipython3",
   "version": "3.10.14"
  }
 },
 "nbformat": 4,
 "nbformat_minor": 4
}
