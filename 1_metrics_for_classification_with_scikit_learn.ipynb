{
 "cells": [
  {
   "cell_type": "markdown",
   "metadata": {
    "id": "ApukvMiQF1ZY"
   },
   "source": [
    "<img src=https://audiovisuales.icesi.edu.co/assets/custom/images/ICESI_logo_prin_descriptor_RGB_POSITIVO_0924.jpg width=200>\n",
    "\n",
    "*Milton Orlando Sarria Paja, PhD.*\n",
    "\n",
    "----\n",
    "\n",
    "# Resumen 🤖📊\n",
    "\n",
    "El módulo [sklearn.metrics](https://scikit-learn.org/stable/modules/classes.html#module-sklearn.metrics) implementa funciones que evalúan el error de predicción para clasificación, regresión y agrupamiento (clustering).\n",
    "\n",
    "Puede consultar la documentación de scikit-learn si se requiere más información sobre \"[*Métricas y puntuación: cuantificación de la calidad de las predicciones*](https://scikit-learn.org/stable/modules/model_evaluation.html)\".\n",
    "\n",
    "En este cuaderno, veremos algunas de las métricas que scikit-learn proporciona para [clasificación](https://scikit-learn.org/stable/modules/model_evaluation.html#classification-metrics) y también escribiremos nuestras propias funciones desde cero para comprender la matemática detrás de algunas de ellas."
   ]
  },
  {
   "cell_type": "markdown",
   "metadata": {
    "id": "y2Zt2qpUGBZN"
   },
   "source": [
    "# Introducción\n",
    "\n",
    "Imagina un estudio que evalúa una prueba que examina a las personas en busca de una enfermedad. Cada persona que realiza la prueba o tiene o no tiene la enfermedad. El resultado de la prueba puede ser positivo (clasificando a la persona como portadora de la enfermedad) o negativo (clasificando a la persona como no portadora de la enfermedad). Por lo tanto, podemos agrupar a las personas en estudio en uno de los cuatro grupos siguientes:\n",
    "\n",
    "- **Verdadero positivo (VP)**: Personas enfermas (actual = 1) identificadas correctamente como enfermas (predicho = 1)\n",
    "- **Falso positivo (FP)**: Personas sanas (actual = 0) identificadas incorrectamente como enfermas (predicho = 1)\n",
    "- **Verdadero negativo (VN)**: Personas sanas (actual = 0) identificadas correctamente como sanas (predicho = 0)\n",
    "- **Falso negativo (FN)**: Personas enfermas (actual = 1) identificadas incorrectamente como sanas (predicho = 0)\n",
    "\n",
    "Estos cuatro grupos se pueden representar en la siguiente figura (extraída de [aquí](https://towardsdatascience.com/understanding-data-science-classification-metrics-in-scikit-learn-in-python-3bc336865019)).\n",
    "\n",
    "\n",
    "<img src=\"https://miro.medium.com/max/407/1*2WBrkJP8qKO3DDG7Lvg0hg.png\">\n",
    "\n",
    "En la figura anterior, se pueden ver:\n",
    "- Todas las muestras que tienen la condición (por ejemplo, tener la enfermedad): Verdaderos positivos + Falsos negativos (parte derecha de la imagen)\n",
    "- Todas las muestras que no tienen la condición (por ejemplo, no tener la enfermedad): Verdaderos negativos + Falsos positivos (parte izquierda de la imagen)\n",
    "\n",
    "La figura anterior también se puede mostrar utilizando una matriz de confusión, como se muestra a continuación:\n",
    "\n",
    "<img src=\"https://raw.githubusercontent.com/albertofernandezvillan/computer-vision-and-deep-learning-course/main/assets/confusion_matrix.png\">\n",
    "\n",
    "Usando VP, FP, FN y VN, podemos calcular algunas métricas: sensibilidad (o recuperación), especificidad y precisión.\n",
    "\n",
    "**Sensibilidad** es una medida de qué tan bien una prueba puede **identificar verdaderos positivos**. La sensibilidad también puede referirse como **recuperación (recall)**, tasa de aciertos o **tasa de verdaderos positivos**. Es el porcentaje, o proporción, de verdaderos positivos de todas las muestras que tienen la condición (verdaderos positivos y falsos negativos). Se puede ver como \"*qué tan seguro estás de no perder ningún positivo*\".\n",
    "\n",
    "**Especificidad** es una medida de qué tan bien una prueba puede **identificar verdaderos negativos**. La especificidad también se refiere como selectividad o **tasa de verdaderos negativos**, y es el porcentaje, o proporción, de los verdaderos negativos de todas las muestras que no tienen la condición (verdaderos negativos y falsos positivos).\n",
    "\n",
    "**Precisión** es intuitivamente la capacidad del clasificador de no etiquetar como positiva una muestra que es negativa. La precisión también puede referirse como valores predictivos positivos (VPP). Es la proporción de resultados positivos que son verdaderos positivos. La precisión se puede ver como \"*qué tan seguro estás de tus verdaderos positivos*\".\n",
    "\n",
    "<img src=\"https://upload.wikimedia.org/wikipedia/commons/thumb/2/26/Precisionrecall.svg/800px-Precisionrecall.svg.png\" width=200>\n",
    "\n"
   ]
  },
  {
   "cell_type": "markdown",
   "metadata": {
    "id": "qMMTGJ9qPczq"
   },
   "source": [
    "# Implementación de nuestras propias funciones proporcionando las principales métricas para clasificación\n",
    "\n",
    "Podemos codificar nuestras propias funciones de evaluación utilizando solo NumPy. En primer lugar, tenemos que calcular VP, FN, FP y VN. Luego, y con base a estas métricas, podemos calcular la matriz de confusión, sensibilidad, especificidad, precisión, recuperación(recall) y puntuación F1 (F1-Score). Más adelante, veremos cómo aplicar estas funciones con fines de evaluación y también compararemos los resultados con las métricas y funciones de puntuación incluidas en el módulo [sklearn.metrics](https://scikit-learn.org/stable/modules/classes.html#module-sklearn.metrics)."
   ]
  },
  {
   "cell_type": "code",
   "execution_count": 13,
   "metadata": {
    "id": "1EKYR2kM1FY_"
   },
   "outputs": [],
   "source": [
    "import numpy as np\n",
    "\n",
    "def find_TP(y_true, y_pred):\n",
    "  # counts the number of true positives (y_true = 1, y_pred = 1)\n",
    "  return sum((y_true == 1) & (y_pred == 1))\n",
    "\n",
    "def find_FN(y_true, y_pred):\n",
    "  # counts the number of false negatives (y_true = 1, y_pred = 0)\n",
    "  return sum((y_true == 1) & (y_pred == 0))\n",
    "\n",
    "def find_FP(y_true, y_pred):\n",
    "  # counts the number of false positives (y_true = 0, y_pred = 1)\n",
    "  return sum((y_true == 0) & (y_pred == 1))\n",
    "\n",
    "def find_TN(y_true, y_pred):\n",
    "  # counts the number of true negatives (y_true = 0, y_pred = 0)\n",
    "  return sum((y_true == 0) & (y_pred == 0))\n",
    "\n",
    "def find_conf_matrix_values(y_true,y_pred):\n",
    "  # calculate TP, FN, FP, TN\n",
    "  TP = find_TP(y_true,y_pred)\n",
    "  FN = find_FN(y_true,y_pred)\n",
    "  FP = find_FP(y_true,y_pred)\n",
    "  TN = find_TN(y_true,y_pred)\n",
    "  return TP,FN,FP,TN\n",
    "\n",
    "def my_confusion_matrix(y_true, y_pred):\n",
    "  TP,FN,FP,TN = find_conf_matrix_values(y_true,y_pred)\n",
    "  return np.array([[TN,FP],[FN,TP]])\n",
    "\n",
    "def my_accuracy_score(y_true, y_pred):\n",
    "  # calculates the fraction of samples predicted correctly\n",
    "  TP,FN,FP,TN = find_conf_matrix_values(y_true,y_pred)\n",
    "  return (TP + TN)/(TP + FN + FP + TN)\n",
    "\n",
    "def my_recall_score(y_true, y_pred):\n",
    "  # True positive rate (TPR), recall, sensitivity\n",
    "  # calculates the fraction of positive samples predicted correctly\n",
    "  TP,FN,FP,TN = find_conf_matrix_values(y_true,y_pred)\n",
    "  return TP / (TP + FN)\n",
    "\n",
    "def my_precision_score(y_true, y_pred):\n",
    "  # calculates the fraction of predicted positives samples that are actually positive\n",
    "  TP,FN,FP,TN = find_conf_matrix_values(y_true,y_pred)\n",
    "  return TP / (TP + FP)\n",
    "\n",
    "# tn, fp, fn, tp = confusion_matrix(y_true, y_pred).ravel()\n",
    "# specificity = tn / (tn+fp)\n",
    "def my_specificity_score(y_true, y_pred):\n",
    "  # Specificity, selectivity, true negative rate (TNR)\n",
    "  # Calculates the fraction of negatives that are correctly identified\n",
    "  TP,FN,FP,TN = find_conf_matrix_values(y_true,y_pred)\n",
    "  return TN / (TN + FP)\n",
    "\n",
    "def my_f1_score(y_true, y_pred):\n",
    "  # calculates the F1 score\n",
    "  recall = my_recall_score(y_true,y_pred)\n",
    "  precision = my_precision_score(y_true,y_pred)\n",
    "  return 2 * (precision * recall) / (precision + recall)\n",
    "\n",
    "def show_metric(my_metric):\n",
    "  return \"{:.2f}%\".format(my_metric * 100)"
   ]
  },
  {
   "cell_type": "code",
   "execution_count": 14,
   "metadata": {},
   "outputs": [
    {
     "data": {
      "text/plain": [
       "array([[7, 3],\n",
       "       [2, 8]])"
      ]
     },
     "execution_count": 14,
     "metadata": {},
     "output_type": "execute_result"
    }
   ],
   "source": [
    "y   = np.array([1,1,1,1,1,0,0,0,0,0,1,0,1,0,1,0,1,0,1,0])\n",
    "y_p = np.array([1,0,1,0,1,0,1,0,0,1,1,0,1,0,1,0,1,1,1,0])\n",
    "my_confusion_matrix(y, y_p)"
   ]
  },
  {
   "cell_type": "code",
   "execution_count": 16,
   "metadata": {},
   "outputs": [
    {
     "data": {
      "text/plain": [
       "10"
      ]
     },
     "execution_count": 16,
     "metadata": {},
     "output_type": "execute_result"
    }
   ],
   "source": [
    "sum(y==0)"
   ]
  },
  {
   "cell_type": "code",
   "execution_count": 7,
   "metadata": {},
   "outputs": [
    {
     "data": {
      "text/plain": [
       "0.9"
      ]
     },
     "execution_count": 7,
     "metadata": {},
     "output_type": "execute_result"
    }
   ],
   "source": [
    "y   = np.array([1,1,0,0,0,0,0,0,0,0,0,0,0,0,0,0,0,0,0,0])\n",
    "y_p = np.array([0,0,0,0,0,0,0,0,0,0,0,0,0,0,0,0,0,0,0,0])\n",
    "sum(y==y_p)/y.size"
   ]
  },
  {
   "cell_type": "markdown",
   "metadata": {
    "id": "v-V3oRlKtEiv"
   },
   "source": [
    "📌 En este punto, vamos a mostrar ejemplos de muestra para introducir todas las métricas y funciones de puntuación definidas anteriormente. \n",
    "\n"
   ]
  },
  {
   "cell_type": "markdown",
   "metadata": {
    "id": "_iDt6ZwQtKfc"
   },
   "source": [
    "## Ejemplo 1 — Low Precision, High Recall, and High Specificity\n",
    "\n",
    "<img src=\"https://miro.medium.com/max/700/1*btcfBuM5Eqqc6rJ3iw3sNQ.png\" width=600>"
   ]
  },
  {
   "cell_type": "code",
   "execution_count": null,
   "metadata": {
    "colab": {
     "base_uri": "https://localhost:8080/"
    },
    "id": "vhvYgiWxscOz",
    "outputId": "f4570f6f-978b-41f3-c22e-10016dffd9d5"
   },
   "outputs": [
    {
     "name": "stdout",
     "output_type": "stream",
     "text": [
      "precision: 33.33%\n",
      "recall: 100.00%\n",
      "specificity: 77.78%\n",
      "accuracy: 80.00%\n",
      "F1 score: 50.00%\n"
     ]
    }
   ],
   "source": [
    "import numpy as np\n",
    "\n",
    "y_true = np.array([1,0,0,0,0,0,0,0,0,0])\n",
    "y_pred = np.array([1,1,1,0,0,0,0,0,0,0])\n",
    "\n",
    "print(\"precision: {}\".format(show_metric(my_precision_score(y_true, y_pred))))\n",
    "print(\"recall: {}\".format(show_metric(my_recall_score(y_true, y_pred))))\n",
    "print(\"specificity: {}\".format(show_metric(my_specificity_score(y_true, y_pred))))\n",
    "print(\"accuracy: {}\".format(show_metric(my_accuracy_score(y_true, y_pred))))\n",
    "print(\"F1 score: {}\".format(show_metric(my_f1_score(y_true, y_pred))))"
   ]
  },
  {
   "cell_type": "code",
   "execution_count": null,
   "metadata": {},
   "outputs": [],
   "source": []
  },
  {
   "cell_type": "markdown",
   "metadata": {
    "id": "fM8sVi-QPYyf"
   },
   "source": [
    "Por supuesto, aquí tienes la interpretación de los resultados proporcionados:\n",
    "\n",
    "- **Precisión (Precision):** 33.33%. Este resultado indica que de todas las instancias clasificadas como positivas, solo el 33.33% fue clasificado correctamente.\n",
    "\n",
    "- **Recuperación (Recall):** 100.00%. Este resultado indica que de todas las instancias que eran positivas, el 100.00% fue identificado correctamente. Es decir, el clasificador no dejó pasar ningún caso positivo.\n",
    "\n",
    "- **Especificidad (Specificity):** 77.78%. Esto sugiere que de todas las instancias que eran negativas, el 77.78% fue identificado correctamente. Por lo tanto, hay un 22.22% de instancias negativas que fueron incorrectamente clasificadas como positivas.\n",
    "\n",
    "- **Exactitud (Accuracy):** 80.00%. Esto implica que el 80.00% de todas las predicciones realizadas por el modelo fueron correctas. Es una medida general de la precisión del modelo, considerando tanto las predicciones positivas como negativas.\n",
    "\n",
    "- **Puntuación F1 (F1 Score):** 50.00%. Esta es una medida del equilibrio entre precisión y recuperación. Indica que el modelo tiene un rendimiento moderado en términos de equilibrar tanto la precisión como el recall.\n",
    "\n"
   ]
  },
  {
   "cell_type": "markdown",
   "metadata": {
    "id": "DEZirZq8QQP-"
   },
   "source": [
    "La puntuación F1 es una métrica comúnmente utilizada en la evaluación de modelos de clasificación. Es una medida que combina la precisión y la recuperación del modelo en un solo número, lo que proporciona una forma de evaluar el equilibrio entre la precisión y el recall.\n",
    "\n",
    "La puntuación F1 se calcula utilizando la siguiente fórmula:\n",
    "\n",
    "$\n",
    "F1 = 2 * (Precision * Recall) / (Precision + Recall)\n",
    "$\n",
    "\n",
    "Donde:\n",
    "- La precisión se refiere a la proporción de verdaderos positivos entre todas las instancias clasificadas como positivas por el modelo.\n",
    "- El recall se refiere a la proporción de verdaderos positivos entre todas las instancias que realmente son positivas en el conjunto de datos.\n",
    "\n",
    "La puntuación F1 es útil cuando hay un desequilibrio entre las clases de los datos, lo que significa que puede haber muchas más instancias de una clase que de otra. Ayuda a tener una visión más completa del rendimiento del modelo al considerar tanto los falsos positivos como los falsos negativos.\n",
    "\n",
    "Al utilizar la puntuación F1, se busca un equilibrio entre la precisión y el recall, lo que significa que se penaliza a los modelos que tienen una precisión o un recall extremadamente bajos. Una puntuación F1 alta indica un equilibrio sólido entre la precisión y el recall, lo que sugiere un mejor rendimiento del modelo en general.\n",
    "\n",
    "Si tienes más preguntas o necesitas más aclaraciones, no dudes en preguntar."
   ]
  },
  {
   "cell_type": "markdown",
   "metadata": {
    "id": "mdxJBbBibhUn"
   },
   "source": [
    "Si el clasificador predice negativo, puedes confiar en él, el ejemplo es negativo. Sin embargo, presta atención, si el ejemplo es negativo, no puedes estar seguro de que lo prediga como negativo (especificidad = 78%).\n",
    "\n",
    "Si el clasificador predice positivo, no puedes confiar en él (precisión = 33%). Sin embargo, si el ejemplo es positivo, puedes confiar en el clasificador (recall = 100%)."
   ]
  },
  {
   "cell_type": "markdown",
   "metadata": {
    "id": "_RNXdoNN40lc"
   },
   "source": [
    "## Ejemplo 2 — High Precision, High Recall, and Low Specificity\n",
    "\n",
    "<img src=\"https://miro.medium.com/max/2400/1*5tE354A0ULFcQJBB0iroLQ.png\" width=600>"
   ]
  },
  {
   "cell_type": "code",
   "execution_count": null,
   "metadata": {
    "colab": {
     "base_uri": "https://localhost:8080/"
    },
    "id": "_AwFR29I5J7F",
    "outputId": "da784261-232b-4880-f601-399edaca43a7"
   },
   "outputs": [
    {
     "name": "stdout",
     "output_type": "stream",
     "text": [
      "precision: 90.00%\n",
      "recall: 100.00%\n",
      "specificity: 0.00%\n",
      "accuracy: 90.00%\n",
      "F1 score: 94.74%\n"
     ]
    }
   ],
   "source": [
    "import numpy as np\n",
    "\n",
    "y_true = np.array([0,1,1,1,1,1,1,1,1,1])\n",
    "y_pred = np.array([1,1,1,1,1,1,1,1,1,1])\n",
    "\n",
    "print(\"precision: {}\".format(show_metric(my_precision_score(y_true, y_pred))))\n",
    "print(\"recall: {}\".format(show_metric(my_recall_score(y_true, y_pred))))\n",
    "print(\"specificity: {}\".format(show_metric(my_specificity_score(y_true, y_pred))))\n",
    "print(\"accuracy: {}\".format(show_metric(my_accuracy_score(y_true, y_pred))))\n",
    "print(\"F1 score: {}\".format(show_metric(my_f1_score(y_true, y_pred))))"
   ]
  },
  {
   "cell_type": "markdown",
   "metadata": {
    "id": "iewgbF0LcXcb"
   },
   "source": [
    "- Precision (Precisión): 90.00%: Indica que el 90% de las instancias clasificadas como positivas son realmente positivas. En otras palabras, de todas las muestras clasificadas como positivas, el 90% son clasificadas correctamente.\n",
    "\n",
    "- Recall (Recuperación): 100.00%: Esto significa que el 100% de todas las instancias positivas fueron identificadas correctamente por el modelo. No hay falsos negativos, lo que indica una capacidad perfecta del modelo para identificar todas las muestras positivas.\n",
    "\n",
    "- Specificity (Especificidad): 0.00%: Esto sugiere que el modelo no identificó correctamente ninguna de las instancias negativas. No hay verdaderos negativos, lo que indica una falta completa de capacidad para identificar correctamente las muestras negativas.\n",
    "\n",
    "- Accuracy (Exactitud): 90.00%: Esto indica la proporción de predicciones correctas en relación con el total de predicciones. En otras palabras, el 90% de todas las predicciones realizadas por el modelo son correctas.\n",
    "\n",
    "- F1 score: 94.74%: El F1-Score es una medida de la precisión general del modelo, que tiene en cuenta tanto la precisión como el recall. Un F1-Score del 94.74% indica un equilibrio general sólido entre la precisión y el recall."
   ]
  },
  {
   "cell_type": "markdown",
   "metadata": {
    "id": "q6aIhQkO5oby"
   },
   "source": [
    "De lo anterior se desprende:\n",
    "- Predecir todo como positivo claramente no puede ser una buena idea. Sin embargo, debido a que la población está desequilibrada, la precisión es relativamente alta (90%).\n",
    "- El recall es del 100% porque todos los ejemplos positivos se predicen como positivos.\n",
    "- La especificidad es del 0% porque ningún ejemplo negativo se predice como negativo."
   ]
  },
  {
   "cell_type": "markdown",
   "metadata": {
    "id": "OTWhFwCh_2oy"
   },
   "source": [
    "## Ejemplo 3 — High Precision, Low Recall, and High Specificity\n",
    "\n",
    "<img src=\"https://miro.medium.com/max/700/1*595ygSPyeaRYuDXYSnfCZQ.png\" width=600>"
   ]
  },
  {
   "cell_type": "code",
   "execution_count": null,
   "metadata": {
    "colab": {
     "base_uri": "https://localhost:8080/"
    },
    "id": "djtLxxs0_-F1",
    "outputId": "d2fc43a0-0153-4f1f-cad2-208b03edca94"
   },
   "outputs": [
    {
     "name": "stdout",
     "output_type": "stream",
     "text": [
      "precision: 100.00%\n",
      "recall: 11.11%\n",
      "specificity: 100.00%\n",
      "accuracy: 20.00%\n",
      "F1 score: 20.00%\n"
     ]
    }
   ],
   "source": [
    "import numpy as np\n",
    "\n",
    "y_true = np.array([0,1,1,1,1,1,1,1,1,1])\n",
    "y_pred = np.array([0,1,0,0,0,0,0,0,0,0])\n",
    "\n",
    "print(\"precision: {}\".format(show_metric(my_precision_score(y_true, y_pred))))\n",
    "print(\"recall: {}\".format(show_metric(my_recall_score(y_true, y_pred))))\n",
    "print(\"specificity: {}\".format(show_metric(my_specificity_score(y_true, y_pred))))\n",
    "print(\"accuracy: {}\".format(show_metric(my_accuracy_score(y_true, y_pred))))\n",
    "print(\"F1 score: {}\".format(show_metric(my_f1_score(y_true, y_pred))))"
   ]
  },
  {
   "cell_type": "markdown",
   "metadata": {
    "id": "3sQia_0wdchh"
   },
   "source": [
    "- Precision (Precisión): 100.00%: Indica que el 100% de las instancias clasificadas como positivas son realmente positivas. En otras palabras, todas las muestras clasificadas como positivas son verdaderos positivos.\n",
    "\n",
    "- Recall (Recuperación): 11.11%: Esto significa que solo el 11.11% de todas las instancias positivas fueron identificadas correctamente por el modelo. Un recall bajo sugiere que el modelo está perdiendo la mayoría de las instancias positivas.\n",
    "\n",
    "- Specificity (Especificidad): 100.00%: Esto indica que el modelo identifica correctamente todas las instancias negativas. Todas las muestras negativas son verdaderos negativos.\n",
    "\n",
    "- Accuracy (Exactitud): 20.00%: Esto indica la proporción de predicciones correctas en relación con el total de predicciones. En este caso, el modelo ha hecho predicciones correctas solo para el 20% de todas las instancias.\n",
    "\n",
    "- F1 score: 20.00%: El F1-Score es una medida de la precisión general del modelo, que tiene en cuenta tanto la precisión como el recall. Un F1-Score del 20.00% indica que el modelo tiene un rendimiento muy bajo en general.\n",
    "\n",
    "Estos resultados sugieren que el modelo tiene una precisión perfecta, pero tiene un rendimiento muy pobre en la identificación de instancias positivas (recall bajo). Además, la exactitud y el F1-Score son muy bajos, lo que indica un rendimiento general insatisfactorio en la clasificación de las muestras."
   ]
  },
  {
   "cell_type": "markdown",
   "metadata": {
    "id": "A9g94VhYA0zb"
   },
   "source": [
    "De acuerdo con los rsultados:\n",
    "\n",
    "- Si predice que un ejemplo es positivo, puedes confiar en ello porque es positivo.\n",
    "- Si predice que es negativo, no puedes confiar en ello, es probable que sea positivo."
   ]
  },
  {
   "cell_type": "code",
   "execution_count": null,
   "metadata": {
    "colab": {
     "base_uri": "https://localhost:8080/"
    },
    "id": "ZPoxI8dxnzrf",
    "outputId": "6f7ba237-5dd5-4d2e-d384-7361fbb01e1e"
   },
   "outputs": [
    {
     "name": "stdout",
     "output_type": "stream",
     "text": [
      "precision: 0.00%\n",
      "recall: 0.00%\n",
      "specificity: 88.89%\n",
      "accuracy: 80.00%\n",
      "F1 score: nan%\n"
     ]
    },
    {
     "name": "stderr",
     "output_type": "stream",
     "text": [
      "<ipython-input-1-79a286ba5a95>:59: RuntimeWarning: invalid value encountered in double_scalars\n",
      "  return 2 * (precision * recall) / (precision + recall)\n"
     ]
    }
   ],
   "source": [
    "# Ejercicio \n",
    "\n",
    "import numpy as np\n",
    "\n",
    "y_true = np.array([0,1,0,0,0,0,0,0,0,0])\n",
    "y_pred = np.array([0,0,0,0,1,0,0,0,0,0])\n",
    "\n",
    "print(\"precision: {}\".format(show_metric(my_precision_score(y_true, y_pred))))\n",
    "print(\"recall: {}\".format(show_metric(my_recall_score(y_true, y_pred))))\n",
    "print(\"specificity: {}\".format(show_metric(my_specificity_score(y_true, y_pred))))\n",
    "print(\"accuracy: {}\".format(show_metric(my_accuracy_score(y_true, y_pred))))\n",
    "print(\"F1 score: {}\".format(show_metric(my_f1_score(y_true, y_pred))))"
   ]
  },
  {
   "cell_type": "code",
   "execution_count": null,
   "metadata": {
    "colab": {
     "base_uri": "https://localhost:8080/"
    },
    "id": "8iqT5L7EoylQ",
    "outputId": "2e63c601-cce6-4fd0-b39f-cca0aefab555"
   },
   "outputs": [
    {
     "name": "stdout",
     "output_type": "stream",
     "text": [
      "precision: 66.67%\n",
      "recall: 22.22%\n",
      "specificity: 0.00%\n",
      "accuracy: 20.00%\n",
      "F1 score: 33.33%\n"
     ]
    }
   ],
   "source": [
    "# Ejercicio \n",
    "\n",
    "import numpy as np\n",
    "\n",
    "y_true = np.array([0,1,1,1,1,1,1,1,1,1])\n",
    "y_pred = np.array([1,1,1,0,0,0,0,0,0,0])\n",
    "\n",
    "print(\"precision: {}\".format(show_metric(my_precision_score(y_true, y_pred))))\n",
    "print(\"recall: {}\".format(show_metric(my_recall_score(y_true, y_pred))))\n",
    "print(\"specificity: {}\".format(show_metric(my_specificity_score(y_true, y_pred))))\n",
    "print(\"accuracy: {}\".format(show_metric(my_accuracy_score(y_true, y_pred))))\n",
    "print(\"F1 score: {}\".format(show_metric(my_f1_score(y_true, y_pred))))"
   ]
  },
  {
   "cell_type": "code",
   "execution_count": null,
   "metadata": {
    "colab": {
     "base_uri": "https://localhost:8080/"
    },
    "id": "GIVXnOtXpC_Z",
    "outputId": "3a248aa5-2627-4445-ec2f-734722fd0fb7"
   },
   "outputs": [
    {
     "name": "stdout",
     "output_type": "stream",
     "text": [
      "precision: 10.00%\n",
      "recall: 100.00%\n",
      "specificity: 0.00%\n",
      "accuracy: 10.00%\n",
      "F1 score: 18.18%\n"
     ]
    }
   ],
   "source": [
    "# Ejercicio \n",
    "\n",
    "import numpy as np\n",
    "\n",
    "y_true = np.array([0,1,0,0,0,0,0,0,0,0])\n",
    "y_pred = np.array([1,1,1,1,1,1,1,1,1,1])\n",
    "\n",
    "print(\"precision: {}\".format(show_metric(my_precision_score(y_true, y_pred))))\n",
    "print(\"recall: {}\".format(show_metric(my_recall_score(y_true, y_pred))))\n",
    "print(\"specificity: {}\".format(show_metric(my_specificity_score(y_true, y_pred))))\n",
    "print(\"accuracy: {}\".format(show_metric(my_accuracy_score(y_true, y_pred))))\n",
    "print(\"F1 score: {}\".format(show_metric(my_f1_score(y_true, y_pred))))"
   ]
  },
  {
   "cell_type": "code",
   "execution_count": null,
   "metadata": {
    "colab": {
     "base_uri": "https://localhost:8080/"
    },
    "id": "P5B8Bpdhps9y",
    "outputId": "166b0f4e-60bd-4641-d7da-ac4251d2d40f"
   },
   "outputs": [
    {
     "name": "stdout",
     "output_type": "stream",
     "text": [
      "precision: 100.00%\n",
      "recall: 100.00%\n",
      "specificity: 100.00%\n",
      "accuracy: 100.00%\n",
      "F1 score: 100.00%\n"
     ]
    }
   ],
   "source": [
    "# Ejercicio \n",
    "\n",
    "import numpy as np\n",
    "\n",
    "y_true = np.array([1,0,1,1,1,1,1,1,1,1])\n",
    "y_pred = np.array([1,0,1,1,1,1,1,1,1,1])\n",
    "\n",
    "print(\"precision: {}\".format(show_metric(my_precision_score(y_true, y_pred))))\n",
    "print(\"recall: {}\".format(show_metric(my_recall_score(y_true, y_pred))))\n",
    "print(\"specificity: {}\".format(show_metric(my_specificity_score(y_true, y_pred))))\n",
    "print(\"accuracy: {}\".format(show_metric(my_accuracy_score(y_true, y_pred))))\n",
    "print(\"F1 score: {}\".format(show_metric(my_f1_score(y_true, y_pred))))"
   ]
  },
  {
   "cell_type": "code",
   "execution_count": null,
   "metadata": {
    "colab": {
     "base_uri": "https://localhost:8080/"
    },
    "id": "CLzxVH15p7g1",
    "outputId": "de9a4e50-8edd-4ffe-9319-dafbe536f0c5"
   },
   "outputs": [
    {
     "name": "stdout",
     "output_type": "stream",
     "text": [
      "precision: 0.00%\n",
      "recall: 0.00%\n",
      "specificity: 0.00%\n",
      "accuracy: 0.00%\n",
      "F1 score: nan%\n"
     ]
    },
    {
     "name": "stderr",
     "output_type": "stream",
     "text": [
      "<ipython-input-1-79a286ba5a95>:59: RuntimeWarning: invalid value encountered in double_scalars\n",
      "  return 2 * (precision * recall) / (precision + recall)\n"
     ]
    }
   ],
   "source": [
    "# Ejercicio \n",
    "\n",
    "import numpy as np\n",
    "\n",
    "y_true = np.array([0,1,0,0,0,0,0,0,0,0])\n",
    "y_pred = np.array([1,0,1,1,1,1,1,1,1,1])\n",
    "\n",
    "print(\"precision: {}\".format(show_metric(my_precision_score(y_true, y_pred))))\n",
    "print(\"recall: {}\".format(show_metric(my_recall_score(y_true, y_pred))))\n",
    "print(\"specificity: {}\".format(show_metric(my_specificity_score(y_true, y_pred))))\n",
    "print(\"accuracy: {}\".format(show_metric(my_accuracy_score(y_true, y_pred))))\n",
    "print(\"F1 score: {}\".format(show_metric(my_f1_score(y_true, y_pred))))"
   ]
  },
  {
   "cell_type": "markdown",
   "metadata": {
    "id": "i-2QqR3mRp__"
   },
   "source": [
    "# Métricas de clasificación de Scikit-learn\n",
    "\n",
    "En este punto, vamos a presentar algunas de las métricas principales que scikit-learn proporciona para propósitos de clasificación. En primer lugar, vamos a obtener. Este conjunto de datos tiene las etiquetas reales (`actual_label`) y las probabilidades de predicción para dos modelos (`model_RF` y `model_LR`). Aquí, las probabilidades son la probabilidad de ser `clase 1`.\n",
    "\n",
    "Además, vamos a mostrar las primeras filas."
   ]
  },
  {
   "cell_type": "code",
   "execution_count": 22,
   "metadata": {
    "colab": {
     "base_uri": "https://localhost:8080/",
     "height": 206
    },
    "id": "YdzOs0K9tfAZ",
    "outputId": "a1f10364-e745-4bb9-abeb-dc16bd24147f"
   },
   "outputs": [
    {
     "data": {
      "text/html": [
       "<div>\n",
       "<style scoped>\n",
       "    .dataframe tbody tr th:only-of-type {\n",
       "        vertical-align: middle;\n",
       "    }\n",
       "\n",
       "    .dataframe tbody tr th {\n",
       "        vertical-align: top;\n",
       "    }\n",
       "\n",
       "    .dataframe thead th {\n",
       "        text-align: right;\n",
       "    }\n",
       "</style>\n",
       "<table border=\"1\" class=\"dataframe\">\n",
       "  <thead>\n",
       "    <tr style=\"text-align: right;\">\n",
       "      <th></th>\n",
       "      <th>actual_label</th>\n",
       "      <th>model_RF</th>\n",
       "      <th>model_LR</th>\n",
       "    </tr>\n",
       "  </thead>\n",
       "  <tbody>\n",
       "    <tr>\n",
       "      <th>0</th>\n",
       "      <td>1</td>\n",
       "      <td>0.639816</td>\n",
       "      <td>0.531904</td>\n",
       "    </tr>\n",
       "    <tr>\n",
       "      <th>1</th>\n",
       "      <td>0</td>\n",
       "      <td>0.490993</td>\n",
       "      <td>0.414496</td>\n",
       "    </tr>\n",
       "    <tr>\n",
       "      <th>2</th>\n",
       "      <td>1</td>\n",
       "      <td>0.623815</td>\n",
       "      <td>0.569883</td>\n",
       "    </tr>\n",
       "    <tr>\n",
       "      <th>3</th>\n",
       "      <td>1</td>\n",
       "      <td>0.506616</td>\n",
       "      <td>0.443674</td>\n",
       "    </tr>\n",
       "    <tr>\n",
       "      <th>4</th>\n",
       "      <td>0</td>\n",
       "      <td>0.418302</td>\n",
       "      <td>0.369532</td>\n",
       "    </tr>\n",
       "  </tbody>\n",
       "</table>\n",
       "</div>"
      ],
      "text/plain": [
       "   actual_label  model_RF  model_LR\n",
       "0             1  0.639816  0.531904\n",
       "1             0  0.490993  0.414496\n",
       "2             1  0.623815  0.569883\n",
       "3             1  0.506616  0.443674\n",
       "4             0  0.418302  0.369532"
      ]
     },
     "execution_count": 22,
     "metadata": {},
     "output_type": "execute_result"
    }
   ],
   "source": [
    "import pandas as pd\n",
    "\n",
    "url = \"https://raw.githubusercontent.com/andrewwlong/classification_metrics_sklearn/master/data.csv\"\n",
    "df = pd.read_csv(url)\n",
    "df.head()"
   ]
  },
  {
   "cell_type": "markdown",
   "metadata": {
    "id": "D3WGCK0sVlWm"
   },
   "source": [
    "En la mayoría de los proyectos de ML, definirás un umbral para determinar qué probabilidades de predicción se etiquetan como positivas frente a negativas. Por ahora, asumamos que el umbral es `0.5`. Vamos a añadir dos columnas adicionales que conviertan las probabilidades en etiquetas predichas."
   ]
  },
  {
   "cell_type": "code",
   "execution_count": 23,
   "metadata": {
    "colab": {
     "base_uri": "https://localhost:8080/",
     "height": 206
    },
    "id": "evR5THFQ-3vt",
    "outputId": "d546565a-6921-4e6d-bf3a-6fbf4e9e4a75"
   },
   "outputs": [
    {
     "data": {
      "text/html": [
       "<div>\n",
       "<style scoped>\n",
       "    .dataframe tbody tr th:only-of-type {\n",
       "        vertical-align: middle;\n",
       "    }\n",
       "\n",
       "    .dataframe tbody tr th {\n",
       "        vertical-align: top;\n",
       "    }\n",
       "\n",
       "    .dataframe thead th {\n",
       "        text-align: right;\n",
       "    }\n",
       "</style>\n",
       "<table border=\"1\" class=\"dataframe\">\n",
       "  <thead>\n",
       "    <tr style=\"text-align: right;\">\n",
       "      <th></th>\n",
       "      <th>actual_label</th>\n",
       "      <th>model_RF</th>\n",
       "      <th>model_LR</th>\n",
       "      <th>predicted_RF</th>\n",
       "      <th>predicted_LR</th>\n",
       "    </tr>\n",
       "  </thead>\n",
       "  <tbody>\n",
       "    <tr>\n",
       "      <th>0</th>\n",
       "      <td>1</td>\n",
       "      <td>0.639816</td>\n",
       "      <td>0.531904</td>\n",
       "      <td>1</td>\n",
       "      <td>1</td>\n",
       "    </tr>\n",
       "    <tr>\n",
       "      <th>1</th>\n",
       "      <td>0</td>\n",
       "      <td>0.490993</td>\n",
       "      <td>0.414496</td>\n",
       "      <td>0</td>\n",
       "      <td>0</td>\n",
       "    </tr>\n",
       "    <tr>\n",
       "      <th>2</th>\n",
       "      <td>1</td>\n",
       "      <td>0.623815</td>\n",
       "      <td>0.569883</td>\n",
       "      <td>1</td>\n",
       "      <td>1</td>\n",
       "    </tr>\n",
       "    <tr>\n",
       "      <th>3</th>\n",
       "      <td>1</td>\n",
       "      <td>0.506616</td>\n",
       "      <td>0.443674</td>\n",
       "      <td>1</td>\n",
       "      <td>0</td>\n",
       "    </tr>\n",
       "    <tr>\n",
       "      <th>4</th>\n",
       "      <td>0</td>\n",
       "      <td>0.418302</td>\n",
       "      <td>0.369532</td>\n",
       "      <td>0</td>\n",
       "      <td>0</td>\n",
       "    </tr>\n",
       "  </tbody>\n",
       "</table>\n",
       "</div>"
      ],
      "text/plain": [
       "   actual_label  model_RF  model_LR  predicted_RF  predicted_LR\n",
       "0             1  0.639816  0.531904             1             1\n",
       "1             0  0.490993  0.414496             0             0\n",
       "2             1  0.623815  0.569883             1             1\n",
       "3             1  0.506616  0.443674             1             0\n",
       "4             0  0.418302  0.369532             0             0"
      ]
     },
     "execution_count": 23,
     "metadata": {},
     "output_type": "execute_result"
    }
   ],
   "source": [
    "thresh = 0.5\n",
    "df['predicted_RF'] = (df.model_RF >= 0.5).astype('int')\n",
    "df['predicted_LR'] = (df.model_LR >= 0.5).astype('int')\n",
    "df.head()"
   ]
  },
  {
   "cell_type": "code",
   "execution_count": null,
   "metadata": {
    "colab": {
     "base_uri": "https://localhost:8080/"
    },
    "id": "ePj3_o82jjjI",
    "outputId": "d80da8df-541e-411e-e599-b3163d1b3f34"
   },
   "outputs": [
    {
     "name": "stdout",
     "output_type": "stream",
     "text": [
      "<class 'pandas.core.frame.DataFrame'>\n",
      "RangeIndex: 15758 entries, 0 to 15757\n",
      "Data columns (total 5 columns):\n",
      " #   Column        Non-Null Count  Dtype  \n",
      "---  ------        --------------  -----  \n",
      " 0   actual_label  15758 non-null  int64  \n",
      " 1   model_RF      15758 non-null  float64\n",
      " 2   model_LR      15758 non-null  float64\n",
      " 3   predicted_RF  15758 non-null  int64  \n",
      " 4   predicted_LR  15758 non-null  int64  \n",
      "dtypes: float64(2), int64(3)\n",
      "memory usage: 615.7 KB\n"
     ]
    }
   ],
   "source": [
    "df.info()"
   ]
  },
  {
   "cell_type": "markdown",
   "metadata": {
    "id": "OLZa_jyIXJDu"
   },
   "source": [
    "## Accuracy\n",
    "\n",
    "**Accuracy score**\n",
    "\n",
    "La función [accuracy_score](https://scikit-learn.org/stable/modules/generated/sklearn.metrics.accuracy_score.html#sklearn.metrics.accuracy_score) calcula la exactitud, ya sea la fracción de predicciones correctas (por defecto) o el recuento (`normalize=False`) de predicciones correctas.\n",
    "\n",
    "$\\ \\texttt{precisión}(y, \\hat{y}) = \\frac{1}{n_\\text{muestras}} \\sum_{i=0}^{n_\\text{muestras}-1} 1(\\hat{y}_i = y_i)$\n",
    "\n",
    "La precisión es la métrica de evaluación más común para problemas de clasificación. Sin embargo, solo se debe utilizar cuando:\n",
    "\n",
    "- Hay un número igual de observaciones en cada clase\n",
    "- Todas las predicciones y errores de predicción son igualmente importantes"
   ]
  },
  {
   "cell_type": "code",
   "execution_count": 24,
   "metadata": {
    "colab": {
     "base_uri": "https://localhost:8080/"
    },
    "id": "_9iJ5xKyYpcV",
    "outputId": "9a09b52a-2b03-436f-c996-a42250de7bb8"
   },
   "outputs": [
    {
     "name": "stdout",
     "output_type": "stream",
     "text": [
      "0.6705165630156111\n",
      "0.6158141896179719\n"
     ]
    }
   ],
   "source": [
    "from sklearn.metrics import accuracy_score\n",
    "\n",
    "print(accuracy_score(df[\"actual_label\"], df[\"predicted_RF\"]))\n",
    "print(my_accuracy_score(df[\"actual_label\"], df[\"predicted_LR\"]))"
   ]
  },
  {
   "cell_type": "markdown",
   "metadata": {
    "id": "d1PCb8Qsp-ri"
   },
   "source": [
    "## Balanced accuracy\n",
    "\n",
    "La función [`balanced_accuracy_score()`](https://scikit-learn.org/stable/modules/generated/sklearn.metrics.balanced_accuracy_score.html) se puede utilizar en problemas de clasificación binaria y multiclase para tratar con conjuntos de datos desequilibrados. `balanced_accuracy_score()` devuelve la precisión promedio por clase. En el siguiente ejemplo, tenemos 10 muestras para 2 clases con 7 observaciones en la clase 0 y 3 observaciones en la clase 1. Por lo tanto, `accuracy_score()` nos da un valor de (7/10 = 0.7) y `balanced_accuracy_score()` devolvería (6/7 + 1/3)/2 = 0.5952.\n",
    "\n"
   ]
  },
  {
   "cell_type": "code",
   "execution_count": null,
   "metadata": {
    "colab": {
     "base_uri": "https://localhost:8080/"
    },
    "id": "CbIGDr0Tqbb9",
    "outputId": "2d45fbc1-158f-448d-cd2c-1cbd37737448"
   },
   "outputs": [
    {
     "name": "stdout",
     "output_type": "stream",
     "text": [
      "0.7\n",
      "0.5952380952380952\n"
     ]
    }
   ],
   "source": [
    "from sklearn.metrics import balanced_accuracy_score\n",
    "\n",
    "y_true = np.array([1,1,0,0,0,0,0,0,0,1])\n",
    "y_pred = np.array([0,1,0,0,0,0,0,0,1,0])\n",
    "\n",
    "print(accuracy_score(y_true, y_pred))\n",
    "print(balanced_accuracy_score(y_true, y_pred))"
   ]
  },
  {
   "cell_type": "markdown",
   "metadata": {
    "id": "C_3K2MUegN9u"
   },
   "source": [
    "Para el valor de la métrica de precisión (accuracy) de 0.7, esto indica que el modelo ha realizado correctamente el 70% de todas las predicciones. Específicamente, ha predicho correctamente el 70% de todas las muestras en el conjunto de datos.\n",
    "\n",
    "En cuanto al valor de la métrica de precisión balanceada (balanced_accuracy) de 0.5952, esto sugiere que el modelo ha logrado una precisión promedio equilibrada por clase de aproximadamente 0.5952. La precisión equilibrada tiene en cuenta el desequilibrio de clases y proporciona una medida más precisa del rendimiento del modelo en conjuntos de datos desequilibrados."
   ]
  },
  {
   "cell_type": "markdown",
   "metadata": {
    "id": "VBy2wufIXDUU"
   },
   "source": [
    "## Matriz de confusión\n",
    "\n",
    "Una matriz de confusión es una técnica para resumir el rendimiento de un algoritmo de clasificación. La precisión de clasificación por sí sola puede ser engañosa si tienes un número desigual de observaciones en cada clase o si tienes más de dos clases en tu conjunto de datos. Calcular una matriz de confusión puede darte una mejor idea de lo que tu modelo de clasificación está haciendo bien y qué tipos de errores está cometiendo."
   ]
  },
  {
   "cell_type": "code",
   "execution_count": null,
   "metadata": {
    "colab": {
     "base_uri": "https://localhost:8080/"
    },
    "id": "YeIEzS0R-9ID",
    "outputId": "23a750ef-5d6d-4794-ed29-26849501ed4f"
   },
   "outputs": [
    {
     "name": "stdout",
     "output_type": "stream",
     "text": [
      "[[5519 2360]\n",
      " [2832 5047]]\n",
      "[[5425 2454]\n",
      " [3600 4279]]\n"
     ]
    }
   ],
   "source": [
    "from sklearn.metrics import confusion_matrix\n",
    "\n",
    "# [TN,FP],[FN,TP]\n",
    "print(confusion_matrix(df['actual_label'], df['predicted_RF']))\n",
    "print(my_confusion_matrix(df['actual_label'], df['predicted_LR']))"
   ]
  },
  {
   "cell_type": "markdown",
   "metadata": {
    "id": "F91CD3oSeHu5"
   },
   "source": [
    "También podemos mostrar la matriz de confusión utilizando [`ConfusionMatrixDisplay`](https://scikit-learn.org/stable/modules/generated/sklearn.metrics.ConfusionMatrixDisplay.html), que proporciona una visualización agradable."
   ]
  },
  {
   "cell_type": "code",
   "execution_count": null,
   "metadata": {
    "colab": {
     "base_uri": "https://localhost:8080/",
     "height": 453
    },
    "id": "Tba5y_D5acwp",
    "outputId": "2a78d67c-b6b3-4278-a54a-58d2c4708e49"
   },
   "outputs": [
    {
     "data": {
      "image/png": "[encoded data removed]",
      "text/plain": [
       "<Figure size 640x480 with 2 Axes>"
      ]
     },
     "metadata": {},
     "output_type": "display_data"
    }
   ],
   "source": [
    "import matplotlib.pyplot as plt\n",
    "from sklearn.metrics import ConfusionMatrixDisplay\n",
    "\n",
    "cm = confusion_matrix(df['actual_label'], df['predicted_RF'])\n",
    "display_labels = [\"0\", \"1\"]\n",
    "disp = ConfusionMatrixDisplay(confusion_matrix=cm, display_labels=display_labels)\n",
    "disp = disp.plot(values_format='.0f')\n",
    "plt.show()"
   ]
  },
  {
   "cell_type": "markdown",
   "metadata": {
    "id": "q_SxETtbfzrR"
   },
   "source": [
    "La matriz de confusión también se puede normalizar. El parámetro `normalize` permite informar relaciones en lugar de recuentos. La matriz de confusión se puede normalizar de 3 formas diferentes: `'pred'`, `'true'` y `'all'`, que dividirán los recuentos por la suma de cada columna, fila o toda la matriz, respectivamente."
   ]
  },
  {
   "cell_type": "code",
   "execution_count": null,
   "metadata": {
    "colab": {
     "base_uri": "https://localhost:8080/",
     "height": 454
    },
    "id": "7kEz8RCRfmCe",
    "outputId": "ad4321c0-706e-4234-f2d3-3a345090e817"
   },
   "outputs": [
    {
     "data": {
      "image/png": "[encoded data removed]",
      "text/plain": [
       "<Figure size 640x480 with 2 Axes>"
      ]
     },
     "metadata": {},
     "output_type": "display_data"
    }
   ],
   "source": [
    "import matplotlib.pyplot as plt\n",
    "from sklearn.metrics import ConfusionMatrixDisplay\n",
    "\n",
    "cm = confusion_matrix(df['actual_label'], df['predicted_RF'], normalize='all')\n",
    "display_labels = [\"0\", \"1\"]\n",
    "disp = ConfusionMatrixDisplay(confusion_matrix=cm, display_labels=display_labels)\n",
    "disp = disp.plot(values_format='.2%')\n",
    "plt.show()"
   ]
  },
  {
   "cell_type": "markdown",
   "metadata": {
    "id": "hlYayaJVkB4Y"
   },
   "source": [
    "## Precisión\n",
    "\n",
    "La [precisión](https://scikit-learn.org/stable/modules/generated/sklearn.metrics.precision_score.html#sklearn.metrics.precision_score) es intuitivamente la capacidad del clasificador para no etiquetar como positiva una muestra que es negativa. Se puede calcular utilizando `precision_score()`:\n"
   ]
  },
  {
   "cell_type": "code",
   "execution_count": null,
   "metadata": {
    "colab": {
     "base_uri": "https://localhost:8080/"
    },
    "id": "1W3wguPakrvN",
    "outputId": "9fe29c19-1811-4d3f-f82e-dfc0278a9070"
   },
   "outputs": [
    {
     "name": "stdout",
     "output_type": "stream",
     "text": [
      "0.681382476036182\n",
      "0.681382476036182\n"
     ]
    }
   ],
   "source": [
    "from sklearn.metrics import precision_score\n",
    "\n",
    "print(precision_score(df['actual_label'], df['predicted_RF']))\n",
    "print(my_precision_score(df['actual_label'], df['predicted_RF']))"
   ]
  },
  {
   "cell_type": "markdown",
   "metadata": {
    "id": "9Aqj8RhDk0mH"
   },
   "source": [
    "## Recall\n",
    "\n",
    "El recall se refiere intuitivamente a la capacidad del clasificador para encontrar todas las muestras positivas. Se puede calcular utilizando recall_score():\n"
   ]
  },
  {
   "cell_type": "code",
   "execution_count": null,
   "metadata": {
    "colab": {
     "base_uri": "https://localhost:8080/"
    },
    "id": "Ttbd1rWOBORI",
    "outputId": "cdaca25e-9e0a-40ce-ad21-9d95bde2dbcf"
   },
   "outputs": [
    {
     "name": "stdout",
     "output_type": "stream",
     "text": [
      "0.6405635232897576\n",
      "0.6405635232897576\n"
     ]
    }
   ],
   "source": [
    "from sklearn.metrics import recall_score\n",
    "\n",
    "print(recall_score(df['actual_label'], df['predicted_RF']))\n",
    "print(my_recall_score(df['actual_label'], df['predicted_RF']))"
   ]
  },
  {
   "cell_type": "markdown",
   "metadata": {
    "id": "oVcJUoy8mxxf"
   },
   "source": [
    "## F1 Score\n",
    "\n",
    "[`f1_score()`](https://scikit-learn.org/stable/modules/generated/sklearn.metrics.f1_score.html) calcula el puntaje F1, también conocido como puntuación F equilibrada o medida F. El puntaje F1 se puede interpretar como un promedio ponderado de la precisión y el recall, donde un puntaje F1 alcanza su mejor valor en 1 y su peor puntaje en 0."
   ]
  },
  {
   "cell_type": "code",
   "execution_count": null,
   "metadata": {
    "colab": {
     "base_uri": "https://localhost:8080/"
    },
    "id": "k_hPKmY6nYRN",
    "outputId": "19fe4ec0-209d-405e-c4f9-022c8bb8a4c8"
   },
   "outputs": [
    {
     "name": "stdout",
     "output_type": "stream",
     "text": [
      "0.660342797330891\n",
      "0.660342797330891\n"
     ]
    }
   ],
   "source": [
    "from sklearn.metrics import f1_score\n",
    "\n",
    "print(f1_score(df['actual_label'], df['predicted_RF']))\n",
    "print(my_f1_score(df['actual_label'], df['predicted_RF']))"
   ]
  },
  {
   "cell_type": "markdown",
   "metadata": {
    "id": "a9_Oi3eihkds"
   },
   "source": [
    "## Informe de clasificación\n",
    "\n",
    "La función [`classification_report()`](https://scikit-learn.org/stable/modules/generated/sklearn.metrics.classification_report.html) construye un informe de texto que muestra las principales métricas de clasificación.\n",
    "\n",
    "- El recall significa \"cuántos de esta clase encuentras sobre el número total de elementos de esta clase\"\n",
    "- La precisión será \"cuántos se clasifican correctamente entre esa clase\"\n",
    "- El puntaje F1 es la media armónica entre la precisión y el recall\n",
    "- El soporte es el número de ocurrencias de la clase dada en tu conjunto de datos\n",
    "\n",
    "Aquí tienes un pequeño ejemplo con `target_names` personalizados."
   ]
  },
  {
   "cell_type": "code",
   "execution_count": 25,
   "metadata": {
    "colab": {
     "base_uri": "https://localhost:8080/"
    },
    "id": "nmOicWYkhwjJ",
    "outputId": "366af970-27e6-4abb-8dd7-4e2f8e8d4b4d"
   },
   "outputs": [
    {
     "name": "stdout",
     "output_type": "stream",
     "text": [
      "              precision    recall  f1-score   support\n",
      "\n",
      "     class 0       0.66      0.70      0.68      7879\n",
      "     class 1       0.68      0.64      0.66      7879\n",
      "\n",
      "    accuracy                           0.67     15758\n",
      "   macro avg       0.67      0.67      0.67     15758\n",
      "weighted avg       0.67      0.67      0.67     15758\n",
      "\n"
     ]
    }
   ],
   "source": [
    "from sklearn.metrics import classification_report\n",
    "\n",
    "target_names = ['class 0', 'class 1']\n",
    "print(classification_report(df['actual_label'], df['predicted_RF'], target_names=target_names))"
   ]
  },
  {
   "cell_type": "markdown",
   "metadata": {
    "id": "-AhSXGYaj069"
   },
   "source": [
    "- Para \"class 0\":\n",
    "  - Precisión (precision): 0.66: Esto significa que el 66% de las muestras clasificadas como \"class 0\" son verdaderos positivos.\n",
    "  - Recall: 0.70: Esto significa que se han encontrado el 70% de todas las muestras reales de \"class 0\".\n",
    "  - Puntaje F1 (f1-score): 0.68: El puntaje F1 es una medida armónica entre la precisión y el recall, y tiene un valor de 0.68.\n",
    "  - Soporte (support): 7879: Hay un total de 7879 muestras de \"class 0\" en el conjunto de datos.\n",
    "\n",
    "- Para \"class 1\":\n",
    "  - Precisión: 0.68: Esto significa que el 68% de las muestras clasificadas como \"class 1\" son verdaderos positivos.\n",
    "  - Recall: 0.64: Esto significa que se han encontrado el 64% de todas las muestras reales de \"class 1\".\n",
    "  - Puntaje F1: 0.66: El puntaje F1 es 0.66 para \"class 1\".\n",
    "  - Soporte: 7879: Hay un total de 7879 muestras de \"class 1\" en el conjunto de datos.\n",
    "\n",
    "- Exactitud (accuracy): 0.67: Esto indica que el modelo ha realizado correctamente el 67% de todas las predicciones en el conjunto de datos.\n",
    "\n",
    "- Promedio general (macro avg): Los promedios ponderados de todas las métricas son del 67%. Esto proporciona una visión general del rendimiento del modelo.\n",
    "\n",
    "- Promedio ponderado (weighted avg): Los promedios ponderados de todas las métricas también son del 67%. Esto proporciona un promedio ponderado del rendimiento del modelo, que tiene en cuenta el desequilibrio de clases.\n",
    "\n",
    "En resumen, el modelo tiene un rendimiento relativamente similar en ambas clases, con precisiones y recalls cercanos al 0.67 y puntajes F1 en el rango de 0.66 a 0.68. La exactitud general del modelo es del 67%."
   ]
  },
  {
   "cell_type": "markdown",
   "metadata": {
    "id": "1cbLy1zb1aOU"
   },
   "source": [
    "## 📚 Curvas ROC\n",
    "\n",
    "Hasta ahora, hemos establecido un umbral de `0.5` para seleccionar qué muestras se predicen como positivas. Según este umbral, todas las métricas que hemos visto anteriormente se calculan en consecuencia. Además, este umbral se puede ajustar para ajustar el comportamiento del modelo para un problema específico.\n",
    "\n",
    "Al hacer una predicción para un problema de clasificación binaria o de dos clases, los dos tipos de errores que podríamos cometer son: error de falso positivo y error de falso negativo. Al predecir probabilidades y calibrar un umbral, se puede establecer un equilibrio entre estos dos errores.\n",
    "\n",
    "Una herramienta útil al predecir la probabilidad de un resultado binario es la curva Característica de Operación del Receptor, o curva ROC.\n",
    "\n",
    "[`roc_curve()`](https://scikit-learn.org/stable/modules/generated/sklearn.metrics.roc_curve.html) calcula la característica de operación del receptor (ROC). Esta implementación está restringida a la tarea de clasificación binaria.\n",
    "\n",
    "Es un gráfico de la **tasa de falsos positivos** (eje x) versus la **tasa de verdaderos positivos** (eje y) para una serie de valores de umbral candidatos entre 0.0 y 1.0.\n",
    "\n",
    "- La tasa de verdaderos positivos también se conoce como sensibilidad.\n",
    "- La tasa de falsos positivos también se conoce como la especificidad invertida (1 - especificidad).\n",
    "\n",
    "Un espacio ROC está definido por FPR y TPR como ejes x e y, respectivamente, que representan los compromisos relativos entre verdaderos positivos (beneficios) y falsos positivos (costos). Dado que TPR es equivalente a sensibilidad y FPR es igual a 1 - especificidad, el gráfico ROC a veces se denomina gráfico de sensibilidad vs (1 - especificidad).\n",
    "\n",
    "\n",
    "<img src=\"https://upload.wikimedia.org/wikipedia/commons/thumb/3/36/Roc-draft-xkcd-style.svg/500px-Roc-draft-xkcd-style.svg.png\">\n",
    "\n",
    "Algunas notas de la figura mostrada anteriormente:\n",
    "\n",
    "- El método de predicción más adecuado daría un punto en la esquina superior izquierda o coordenada (0,1) del espacio ROC, que representa una sensibilidad del 100% (sin falsos negativos) y una especificidad del 100% (sin falsos positivos).\n",
    "\n",
    "- Una suposición aleatoria daría un punto a lo largo de una línea diagonal (la llamada línea de no discriminación) desde las esquinas inferiores izquierda hasta las superiores derecha (independientemente de las tasas de base positivas y negativas).\n",
    "\n",
    "- La diagonal divide el espacio ROC.\n",
    " - Los puntos por encima de la diagonal representan buenos resultados de clasificación (mejores que aleatorios).\n",
    " - Los puntos por debajo de la línea representan malos resultados (peores que aleatorios). Se debe tener en cuenta que la salida de un predictor consistentemente malo simplemente se podría invertir para obtener un buen predictor.\n",
    "\n",
    "Además, el cálculo del área bajo la curva ROC (ROC AUC) se puede calcular utilizando la función [`roc_auc_score()`](https://scikit-learn.org/stable/modules/generated/sklearn.metrics.roc_auc_score.html).\n",
    "\n",
    "\n",
    "## 🔨 Cómo se Construye una Curva ROC (Paso a Paso)\n",
    "\n",
    "1. **Predecir probabilidades** con tu modelo, no solo etiquetas.\n",
    "2. **Ordenar** las observaciones por probabilidad, de mayor a menor.\n",
    "3. Por cada **umbral** posible:\n",
    "   - Se asignan clases según si la probabilidad es mayor o menor que el umbral.\n",
    "   - Se calculan los valores de **TP**, **FP**, **TN**, **FN**.\n",
    "   - Se calculan **TPR = TP / (TP + FN)** y **FPR = FP / (FP + TN)**.\n",
    "4. Se trazan los puntos **(FPR, TPR)**."
   ]
  },
  {
   "cell_type": "code",
   "execution_count": 26,
   "metadata": {},
   "outputs": [],
   "source": [
    "import numpy as np\n",
    "import matplotlib.pyplot as plt\n",
    "from sklearn.metrics import roc_curve, auc\n",
    "from sklearn.model_selection import train_test_split\n",
    "from sklearn.datasets import make_classification\n",
    "from sklearn.linear_model import LogisticRegression\n",
    "from sklearn.ensemble import RandomForestClassifier\n",
    "from sklearn.svm import SVC"
   ]
  },
  {
   "cell_type": "code",
   "execution_count": 27,
   "metadata": {},
   "outputs": [
    {
     "data": {
      "text/plain": [
       "<matplotlib.collections.PathCollection at 0x1a4f78f3310>"
      ]
     },
     "execution_count": 27,
     "metadata": {},
     "output_type": "execute_result"
    },
    {
     "data": {
      "image/png": "[encoded data removed]",
      "text/plain": [
       "<Figure size 640x480 with 1 Axes>"
      ]
     },
     "metadata": {},
     "output_type": "display_data"
    }
   ],
   "source": [
    "from sklearn import datasets\n",
    "cancer = datasets.load_breast_cancer()\n",
    "data = cancer.data\n",
    "# Split dataset into training set and test set\n",
    "X_train, X_test, y_train, y_test = train_test_split(cancer.data, cancer.target, test_size=0.3,random_state=109) # 70% training and 30% test\n",
    "# Select the features to visualize\n",
    "feature_idx1 = 0\n",
    "feature_idx2 = 1\n",
    "X_train = X_train[:, [feature_idx1, feature_idx2]]\n",
    "X_test = X_test[:, [feature_idx1, feature_idx2]]\n",
    "\n",
    "\n",
    "plt.scatter(X_train[:, 0], X_train[:, 1], c=y_train, cmap='Accent_r')"
   ]
  },
  {
   "cell_type": "markdown",
   "metadata": {},
   "source": [
    "## Ejemplo 1️⃣: **Clasificador Básico - Regresión Logística**\n",
    "#### Entrenamos un modelo simple"
   ]
  },
  {
   "cell_type": "code",
   "execution_count": 11,
   "metadata": {},
   "outputs": [
    {
     "name": "stderr",
     "output_type": "stream",
     "text": [
      "C:\\Users\\16079220\\AppData\\Local\\anaconda3\\envs\\bancow2\\lib\\site-packages\\IPython\\core\\pylabtools.py:170: UserWarning: Glyph 128202 (\\N{BAR CHART}) missing from font(s) DejaVu Sans.\n",
      "  fig.canvas.print_figure(bytes_io, **kw)\n"
     ]
    },
    {
     "data": {
      "image/png": "[encoded data removed]",
      "text/plain": [
       "<Figure size 800x400 with 1 Axes>"
      ]
     },
     "metadata": {},
     "output_type": "display_data"
    }
   ],
   "source": [
    "lr = LogisticRegression()\n",
    "lr.fit(X_train, y_train)\n",
    "#\n",
    "#calcular metricas\n",
    "# Predecimos probabilidades\n",
    "y_scores_lr = lr.predict_proba(X_test)[:, 1]\n",
    "\n",
    "plt.figure(figsize=(8, 4))\n",
    "\n",
    "# Probabilidades para la clase 0\n",
    "plt.hist(y_scores_lr[y_test == 0], bins=25, alpha=0.6, color='red', label='Clase 0 (Negativa)')\n",
    "\n",
    "# Probabilidades para la clase 1\n",
    "plt.hist(y_scores_lr[y_test == 1], bins=25, alpha=0.6, color='green', label='Clase 1 (Positiva)')\n",
    "\n",
    "# Estética del gráfico\n",
    "plt.title('📊 Histograma de Probabilidades de Logistic Regression')\n",
    "plt.xlabel('Probabilidad predicha de clase positiva')\n",
    "plt.ylabel('Cantidad de muestras')\n",
    "plt.legend(loc='upper center')\n",
    "plt.grid(True)\n",
    "plt.show()\n"
   ]
  },
  {
   "cell_type": "code",
   "execution_count": 28,
   "metadata": {},
   "outputs": [
    {
     "data": {
      "image/png": "[encoded data removed]",
      "text/plain": [
       "<Figure size 400x300 with 1 Axes>"
      ]
     },
     "metadata": {},
     "output_type": "display_data"
    }
   ],
   "source": [
    "# Calculamos FPR, TPR\n",
    "fpr_lr, tpr_lr, thresholds_lr = roc_curve(y_test, y_scores_lr)\n",
    "\n",
    "# Calculamos AUC\n",
    "auc_lr = auc(fpr_lr, tpr_lr)\n",
    "\n",
    "# Graficamos la curva ROC\n",
    "plt.figure(figsize=(4, 3))\n",
    "plt.plot(fpr_lr, tpr_lr, label=f'Logistic Regression (AUC = {auc_lr:.2f})')\n",
    "plt.plot([0, 1], [0, 1], 'k--')  # Línea aleatoria\n",
    "plt.xlabel('False Positive Rate (FPR)')\n",
    "plt.ylabel('True Positive Rate (TPR)')\n",
    "plt.title('Curva ROC - Regresión Logística')\n",
    "plt.legend()\n",
    "plt.grid(True)\n",
    "plt.show()"
   ]
  },
  {
   "cell_type": "code",
   "execution_count": null,
   "metadata": {},
   "outputs": [],
   "source": []
  },
  {
   "cell_type": "markdown",
   "metadata": {},
   "source": [
    "## Ejemplo 2️⃣: **Comparando Modelos (Random Forest vs SVM)**"
   ]
  },
  {
   "cell_type": "code",
   "execution_count": 29,
   "metadata": {},
   "outputs": [
    {
     "data": {
      "image/png": "[encoded data removed]",
      "text/plain": [
       "<Figure size 400x300 with 1 Axes>"
      ]
     },
     "metadata": {},
     "output_type": "display_data"
    }
   ],
   "source": [
    "# Random Forest\n",
    "rf = RandomForestClassifier(n_estimators=100)\n",
    "rf.fit(X_train, y_train)\n",
    "y_scores_rf = rf.predict_proba(X_test)[:, 1]\n",
    "fpr_rf, tpr_rf, _ = roc_curve(y_test, y_scores_rf)\n",
    "auc_rf = auc(fpr_rf, tpr_rf)\n",
    "\n",
    "# Support Vector Machine (probabilidad)\n",
    "svc = SVC(probability=True)\n",
    "svc.fit(X_train, y_train)\n",
    "y_scores_svc = svc.predict_proba(X_test)[:, 1]\n",
    "fpr_svc, tpr_svc, _ = roc_curve(y_test, y_scores_svc)\n",
    "auc_svc = auc(fpr_svc, tpr_svc)\n",
    "\n",
    "# Graficamos todas las curvas\n",
    "plt.figure(figsize=(4, 3))\n",
    "plt.plot(fpr_lr, tpr_lr, label=f'Logistic Regression (AUC = {auc_lr:.2f})')\n",
    "plt.plot(fpr_rf, tpr_rf, label=f'Random Forest (AUC = {auc_rf:.2f})')\n",
    "plt.plot(fpr_svc, tpr_svc, label=f'SVM (AUC = {auc_svc:.2f})')\n",
    "plt.plot([0, 1], [0, 1], 'k--')\n",
    "plt.xlabel('False Positive Rate')\n",
    "plt.ylabel('True Positive Rate')\n",
    "plt.title('Curvas ROC Comparadas')\n",
    "plt.legend()\n",
    "plt.grid(True)\n",
    "plt.show()"
   ]
  },
  {
   "cell_type": "markdown",
   "metadata": {},
   "source": [
    "## 🧐 Interpretando la Curva ROC\n",
    "\n",
    "- Un modelo **aleatorio** cae cerca de la diagonal (AUC ~ 0.5).\n",
    "- Un modelo **perfecto** se sitúa en la esquina superior izquierda (AUC = 1).\n",
    "- **Más arriba** y **más a la izquierda** implica mejor rendimiento.\n",
    "---\n",
    "\n",
    "## 🌐 ¿Por qué el AUC es una Medida Global y no Puntual?\n",
    "\n",
    "- **El AUC (Area Under the Curve)** mide **el área total** bajo la curva ROC.\n",
    "- Representa **la probabilidad de que el modelo clasifique correctamente un positivo sobre un negativo**, considerando **todos los umbrales posibles**.\n",
    "- **Es global** porque resume el **desempeño en todos los posibles puntos de corte**, mientras que métricas como **accuracy** o **recall** dependen de un **umbral específico**.\n",
    "\n",
    "---\n",
    "\n",
    "## 📊 Resumen Visual\n",
    "| **AUC**        | **Interpretación** |\n",
    "|----------------|--------------------|\n",
    "| **0.9 - 1**    | Excelente modelo   |\n",
    "| **0.8 - 0.9**  | Muy buen modelo    |\n",
    "| **0.7 - 0.8**  | Aceptable          |\n",
    "| **0.6 - 0.7**  | Débil              |\n",
    "| **0.5 - 0.6**  | Fallando, como adivinar |\n",
    "\n"
   ]
  },
  {
   "cell_type": "markdown",
   "metadata": {},
   "source": []
  },
  {
   "cell_type": "code",
   "execution_count": null,
   "metadata": {},
   "outputs": [],
   "source": []
  }
 ],
 "metadata": {
  "colab": {
   "provenance": []
  },
  "kernelspec": {
   "display_name": "Python 3 (ipykernel)",
   "language": "python",
   "name": "python3"
  },
  "language_info": {
   "codemirror_mode": {
    "name": "ipython",
    "version": 3
   },
   "file_extension": ".py",
   "mimetype": "text/x-python",
   "name": "python",
   "nbconvert_exporter": "python",
   "pygments_lexer": "ipython3",
   "version": "3.10.14"
  }
 },
 "nbformat": 4,
 "nbformat_minor": 4
}
